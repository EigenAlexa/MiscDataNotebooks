{
 "cells": [
  {
   "cell_type": "code",
   "execution_count": 15,
   "metadata": {
    "collapsed": false
   },
   "outputs": [],
   "source": [
    "from corenlp_pywrap import pywrap\n",
    "import pandas as pd\n",
    "from pymongo import MongoClient\n",
    "from functools import reduce\n",
    "import numpy as np\n",
    "import gensim"
   ]
  },
  {
   "cell_type": "code",
   "execution_count": 16,
   "metadata": {
    "collapsed": false
   },
   "outputs": [],
   "source": [
    "full_annotator_list = [\"ssplit\"]\n",
    "cn = pywrap.CoreNLP(url='http://172.17.0.2:9000', annotator_list = full_annotator_list)"
   ]
  },
  {
   "cell_type": "code",
   "execution_count": null,
   "metadata": {
    "collapsed": true
   },
   "outputs": [],
   "source": []
  },
  {
   "cell_type": "code",
   "execution_count": 17,
   "metadata": {
    "collapsed": false,
    "scrolled": false
   },
   "outputs": [
    {
     "data": {
      "text/plain": [
       "False"
      ]
     },
     "execution_count": 17,
     "metadata": {},
     "output_type": "execute_result"
    }
   ],
   "source": [
    "switchboard = pd.read_csv('datasets/switchboard.csv')\n",
    "switchboard = switchboard.dropna(how='any', subset=['clean_text', \n",
    "                                                    'conversation_no'])\n",
    "switchboard.dropna(how='any', subset=['clean_text', 'conversation_no']).isnull().values.any()\n",
    "# print(switchboard[switchboard.act_label_1 == 'Backwards-Communicative-Function:Understanding:Sympathy'])\n"
   ]
  },
  {
   "cell_type": "markdown",
   "metadata": {},
   "source": [
    "# Get the list of all mocs"
   ]
  },
  {
   "cell_type": "code",
   "execution_count": 18,
   "metadata": {
    "collapsed": false
   },
   "outputs": [
    {
     "name": "stdout",
     "output_type": "stream",
     "text": [
      "Backwards-Communicative-Function:Agreement:Accept\n",
      "Backwards-Communicative-Function:Agreement:Accept-part\n",
      "Backwards-Communicative-Function:Agreement:Hold-before-answer/agreement\n",
      "Backwards-Communicative-Function:Agreement:Maybe\n",
      "Backwards-Communicative-Function:Agreement:Reject\n",
      "Backwards-Communicative-Function:Agreement:Reject-part\n",
      "Backwards-Communicative-Function:Answer:Affirmative-non-yes-answers\n",
      "Backwards-Communicative-Function:Answer:Dispreferred-answers\n",
      "Backwards-Communicative-Function:Answer:Negative-non-no-answers\n",
      "Backwards-Communicative-Function:Answer:No answers\n",
      "Backwards-Communicative-Function:Answer:Other-answers\n",
      "Backwards-Communicative-Function:Understanding:Acknowledge\n",
      "Backwards-Communicative-Function:Understanding:Appreciation\n",
      "Backwards-Communicative-Function:Understanding:Backchannel-in-question-form\n",
      "Backwards-Communicative-Function:Understanding:Correct-misspeaking\n",
      "Backwards-Communicative-Function:Understanding:Downplayer\n",
      "Backwards-Communicative-Function:Understanding:Repeat-phrase\n",
      "Backwards-Communicative-Function:Understanding:Response Acknowledgement\n",
      "Backwards-Communicative-Function:Understanding:Signal-non-understanding\n",
      "Backwards-Communicative-Function:Understanding:Summarize/reformulate\n",
      "Backwards-Communicative-Function:Understanding:Sympathy\n",
      "Committing-speaker-future-action:Commit\n",
      "Committing-speaker-future-action:Offer\n",
      "Communicative-Status:3rd-party-talk\n",
      "Communicative-Status:Non-verbal\n",
      "Communicative-Status:Self-talk\n",
      "Communicative-Status:Uninterpretable\n",
      "Forward-Communicative-Function:Statement:Statement-non-opinion\n",
      "Forward-Communicative-Function:Statement:Statement-opinion\n",
      "Influencing-addressee-fut-actn:Open-option\n",
      "Info-request:Action-directive\n",
      "Info-request:Declarative-Wh-Question\n",
      "Info-request:Open-Question\n",
      "Info-request:Or-Clause\n",
      "Info-request:Or-Question\n",
      "Info-request:Wh-Question\n",
      "Info-request:Yes answers\n",
      "Info-request:Yes-No-Question\n",
      "Information-level:Task-management\n",
      "Other\n",
      "Other-forward-function\n",
      "Other-forward-function:Apology\n",
      "Other-forward-function:Conventional-closing\n",
      "Other-forward-function:Conventional-opening\n",
      "Other-forward-function:Exclamation\n",
      "Other-forward-function:Explicit-performative\n",
      "Other-forward-function:Thanking\n",
      "Other-forward-function:You're-Welcome\n",
      "Other:Hedge\n",
      "Other:Segment-(multi-utterance)\n",
      "Other:Transcription-errors\n",
      "Rhetorical-Questions\n",
      "none\n"
     ]
    }
   ],
   "source": [
    "mocs = np.unique(switchboard.act_label_1)\n",
    "sup = [print(m) for m in mocs]"
   ]
  },
  {
   "cell_type": "markdown",
   "metadata": {},
   "source": [
    "# Print out general exampels"
   ]
  },
  {
   "cell_type": "code",
   "execution_count": 19,
   "metadata": {
    "collapsed": true
   },
   "outputs": [],
   "source": [
    "def get_action_example(m, idx=0, random=False):\n",
    "    all_ms = list(switchboard[switchboard.act_label_1 == m]['clean_text'])\n",
    "    if random:\n",
    "        idx = np.random.randint(0, len(all_ms))\n",
    "    return all_ms[idx]"
   ]
  },
  {
   "cell_type": "code",
   "execution_count": 20,
   "metadata": {
    "collapsed": false,
    "scrolled": true
   },
   "outputs": [
    {
     "name": "stdout",
     "output_type": "stream",
     "text": [
      "Backwards-Communicative-Function:Agreement:Accept\n",
      "'That's true.'\n",
      "Backwards-Communicative-Function:Agreement:Accept-part\n",
      "'Well, for some things.'\n",
      "Backwards-Communicative-Function:Agreement:Hold-before-answer/agreement\n",
      "'Uh ...'\n",
      "Backwards-Communicative-Function:Agreement:Maybe\n",
      "'That could be it, could be it.'\n",
      "Backwards-Communicative-Function:Agreement:Reject\n",
      "'Nay.'\n",
      "Backwards-Communicative-Function:Agreement:Reject-part\n",
      "'Um, um, well, n-'\n",
      "Backwards-Communicative-Function:Answer:Affirmative-non-yes-answers\n",
      "'It would be really nice because I'm kind of tired of driving in pot holes.'\n",
      "Backwards-Communicative-Function:Answer:Dispreferred-answers\n",
      "'Well, it's, this is going to sound really strange,'\n",
      "Backwards-Communicative-Function:Answer:Negative-non-no-answers\n",
      "'Uh, not anymore.'\n",
      "Backwards-Communicative-Function:Answer:No answers\n",
      "'No'\n",
      "Backwards-Communicative-Function:Answer:Other-answers\n",
      "'Well, s-, sort of.'\n",
      "Backwards-Communicative-Function:Understanding:Acknowledge\n",
      "'Yeah'\n",
      "Backwards-Communicative-Function:Understanding:Appreciation\n",
      "'Oh, that's wonderful.'\n",
      "Backwards-Communicative-Function:Understanding:Backchannel-in-question-form\n",
      "'That's the big thing, huh ?'\n",
      "Backwards-Communicative-Function:Understanding:Correct-misspeaking\n",
      "'Circuit City.'\n",
      "Backwards-Communicative-Function:Understanding:Downplayer\n",
      "'That's okay'\n",
      "Backwards-Communicative-Function:Understanding:Repeat-phrase\n",
      "'Twenty bucks a whack now.'\n",
      "Backwards-Communicative-Function:Understanding:Response Acknowledgement\n",
      "'Oh, okay.'\n",
      "Backwards-Communicative-Function:Understanding:Signal-non-understanding\n",
      "'Do I vote ?'\n",
      "Backwards-Communicative-Function:Understanding:Summarize/reformulate\n",
      "'A whole fam-'\n",
      "Backwards-Communicative-Function:Understanding:Sympathy\n",
      "'that's too bad.'\n",
      "Committing-speaker-future-action:Commit\n",
      "'and then w-, after five minutes when the, uh, uh, voice comes on, we can talk all night if we want.'\n",
      "Committing-speaker-future-action:Offer\n",
      "'But, maybe I'll try it one day.'\n",
      "Communicative-Status:3rd-party-talk\n",
      "'Uh, probably around twelve, uh-huh.'\n",
      "Communicative-Status:Non-verbal\n",
      "'.'\n",
      "Communicative-Status:Self-talk\n",
      "'or, or, uh, now what was it they called them ?'\n",
      "Communicative-Status:Uninterpretable\n",
      "'and, uh, about the only thing'\n",
      "Forward-Communicative-Function:Statement:Statement-non-opinion\n",
      "'the family wasn't wealthy'\n",
      "Forward-Communicative-Function:Statement:Statement-opinion\n",
      "'but, uh, I think it's all relative to the, to the time and place'\n",
      "Influencing-addressee-fut-actn:Open-option\n",
      "'You can go first'\n",
      "Info-request:Action-directive\n",
      "'Go ahead.'\n",
      "Info-request:Declarative-Wh-Question\n",
      "'Like what for example.'\n",
      "Info-request:Open-Question\n",
      "'What about, uh, white collar crimes like, uh, theft of trade secrets.'\n",
      "Info-request:Or-Clause\n",
      "'or do you actually put up a tent'\n",
      "Info-request:Or-Question\n",
      "'do you sing in, in a choir or a choral group ?'\n",
      "Info-request:Wh-Question\n",
      "'Which one ?'\n",
      "Info-request:Yes answers\n",
      "'Yeah.'\n",
      "Info-request:Yes-No-Question\n",
      "'I guess you don't enjoy that very much.'\n",
      "Information-level:Task-management\n",
      "'When was the last time you painted something ?'\n",
      "Other\n",
      "'I mean'\n",
      "Other-forward-function\n",
      "'Well good luck with your expected baby there.'\n",
      "Other-forward-function:Apology\n",
      "'excuse me.'\n",
      "Other-forward-function:Conventional-closing\n",
      "'Well, I have enjoyed talking to you.'\n",
      "Other-forward-function:Conventional-opening\n",
      "'Hi.'\n",
      "Other-forward-function:Exclamation\n",
      "'Jeez.'\n",
      "Other-forward-function:Explicit-performative\n",
      "'Oh, I bet you those are, I bet you what those things are, uh, is a Dutch iris.'\n",
      "Other-forward-function:Thanking\n",
      "'well thanks a bunch'\n",
      "Other-forward-function:You're-Welcome\n",
      "'Uh-huh.'\n",
      "Other:Hedge\n",
      "'You know, I'm a funny duck'\n",
      "Other:Segment-(multi-utterance)\n",
      "'uh, reports inst-'\n",
      "Other:Transcription-errors\n",
      "'place that, that needed this.'\n",
      "Rhetorical-Questions\n",
      "'So where do you think they target their efforts ?'\n",
      "none\n",
      "'And I'm looking at him like, Jeez.'\n"
     ]
    }
   ],
   "source": [
    "for m in mocs:\n",
    "    print(\"{}\\n'{}'\".format(m, get_action_example(m, random=True)))"
   ]
  },
  {
   "cell_type": "markdown",
   "metadata": {},
   "source": [
    "# Identifying MOCs"
   ]
  },
  {
   "cell_type": "code",
   "execution_count": 7,
   "metadata": {
    "collapsed": false
   },
   "outputs": [],
   "source": [
    "def moc_filter(m, words):\n",
    "    for w in words:\n",
    "        if w.lower() in m.lower() :\n",
    "            return True\n",
    "    return False\n",
    "def print_mocs(queries):\n",
    "    for m in mocs:\n",
    "        if moc_filter(m, queries):\n",
    "            print(\"{}\\n'{}'\".format(m, get_action_example(m, random=True)))\n",
    "def get_list(queries):\n",
    "    return [m for m in mocs if moc_filter(m, queries)]\n",
    "query_mocs = {}\n"
   ]
  },
  {
   "cell_type": "markdown",
   "metadata": {},
   "source": [
    "## Ignore these phrases\n",
    "These types of communication don't really fit in the common theme of shit we'll do."
   ]
  },
  {
   "cell_type": "code",
   "execution_count": 8,
   "metadata": {
    "collapsed": false
   },
   "outputs": [
    {
     "name": "stdout",
     "output_type": "stream",
     "text": [
      "Communicative-Status:Non-verbal\n",
      "\".\"\n",
      "Communicative-Status:Uninterpretable\n",
      "\"that\"\n",
      "Communicative-Status:3rd-party-talk\n",
      "\"And yourself.\"\n",
      "Other:Transcription-errors\n",
      "\"place that, that needed this.\"\n",
      "Information-level:Task-management\n",
      "\"Did you feel, uh, rewarded while you were doing it.\"\n",
      "none\n",
      "\"it's like, oh, my\"\n",
      "Other:Segment-(multi-utterance)\n",
      "\"You know\"\n",
      "Other:Hedge\n",
      "\"Well, I hesitate to say we ought to spend ourselves to affluence\"\n",
      "Other\n",
      "\"And then\"\n",
      "Other-forward-function:Explicit-performative\n",
      "\"I will bet you those are Dutch iris.\"\n",
      "Other-forward-function\n",
      "\"Well good luck with your expected baby there.\"\n"
     ]
    }
   ],
   "source": [
    "# mocs to ignore\n",
    "query_mocs['ignore'] = ['Communicative-Status:Non-verbal', \n",
    "                        'Communicative-Status:Uninterpretable',\n",
    "                        'Communicative-Status:3rd-party-talk',\n",
    "                        'Other:Transcription-errors', \n",
    "                        'Information-level:Task-management', \n",
    "                        'none',\n",
    "                        'Other:Segment-(multi-utterance)',\n",
    "                        'Other:Hedge',\n",
    "                       'Other', \n",
    "                        'Other-forward-function:Explicit-performative', \n",
    "                       'Other-forward-function']\n",
    "for m in query_mocs['ignore']:\n",
    "    print(m)\n",
    "    print('\"%s\"' %get_action_example(m, random=True))"
   ]
  },
  {
   "cell_type": "markdown",
   "metadata": {},
   "source": [
    "## Conventional parts of conversation MOC\n",
    "Those that wrap the beginning and ending of a conversation. Something we'll probably encode in the symobllic dict\n"
   ]
  },
  {
   "cell_type": "code",
   "execution_count": 9,
   "metadata": {
    "collapsed": false
   },
   "outputs": [
    {
     "name": "stdout",
     "output_type": "stream",
     "text": [
      "Other-forward-function:Conventional-closing\n",
      "'Okay'\n",
      "Other-forward-function:Conventional-opening\n",
      "'this is Lois.'\n"
     ]
    }
   ],
   "source": [
    "queries =  ['Conventional']\n",
    "print_mocs(queries)\n",
    "query_mocs['conventional'] = get_list(queries)"
   ]
  },
  {
   "cell_type": "markdown",
   "metadata": {},
   "source": [
    "## Answers to QA MOC"
   ]
  },
  {
   "cell_type": "code",
   "execution_count": 10,
   "metadata": {
    "collapsed": false
   },
   "outputs": [
    {
     "name": "stdout",
     "output_type": "stream",
     "text": [
      "Backwards-Communicative-Function:Agreement:Hold-before-answer/agreement\n",
      "'Well, I'm a drafter'\n",
      "Backwards-Communicative-Function:Answer:Affirmative-non-yes-answers\n",
      "'Oh, right,'\n",
      "Backwards-Communicative-Function:Answer:Dispreferred-answers\n",
      "'Well, there is a lake not far'\n",
      "Backwards-Communicative-Function:Answer:Negative-non-no-answers\n",
      "'Uh, not'\n",
      "Backwards-Communicative-Function:Answer:No answers\n",
      "'no'\n",
      "Backwards-Communicative-Function:Answer:Other-answers\n",
      "'Ooh, well I don't know.'\n",
      "Backwards-Communicative-Function:Understanding:Backchannel-in-question-form\n",
      "'Oh, really ?'\n",
      "Info-request:Action-directive\n",
      "'go ahead.'\n",
      "Info-request:Declarative-Wh-Question\n",
      "'like what ?'\n",
      "Info-request:Open-Question\n",
      "'Then how does he like it ?'\n",
      "Info-request:Or-Clause\n",
      "'or is this early admissions ?'\n",
      "Info-request:Or-Question\n",
      "'what, what do you advocate, more taxes or better management of what they got ?'\n",
      "Info-request:Wh-Question\n",
      "'what are the'\n",
      "Info-request:Yes answers\n",
      "'Uh-huh.'\n",
      "Info-request:Yes-No-Question\n",
      "'is this dinner time for you ?'\n"
     ]
    }
   ],
   "source": [
    "queries =  ['Backwards-Communicative-Function:Agreement:Hold-before-answer/agreement',\n",
    " 'Backwards-Communicative-Function:Answer:Affirmative-non-yes-answers',\n",
    " 'Backwards-Communicative-Function:Answer:Dispreferred-answers',\n",
    " 'Backwards-Communicative-Function:Answer:Negative-non-no-answers',\n",
    " 'Backwards-Communicative-Function:Answer:No answers',\n",
    " 'Backwards-Communicative-Function:Answer:Other-answers',\n",
    " 'Backwards-Communicative-Function:Understanding:Backchannel-in-question-form',\n",
    " 'Info-request:Action-directive',\n",
    " 'Info-request:Declarative-Wh-Question',\n",
    " 'Info-request:Open-Question',\n",
    " 'Info-request:Or-Clause',\n",
    " 'Info-request:Or-Question',\n",
    " 'Info-request:Wh-Question',\n",
    " 'Info-request:Yes answers',\n",
    " 'Info-request:Yes-No-Question']\n",
    "print_mocs(queries)\n",
    "query_mocs['qa'] = get_list(queries)"
   ]
  },
  {
   "cell_type": "markdown",
   "metadata": {},
   "source": [
    "## Generate Questions"
   ]
  },
  {
   "cell_type": "code",
   "execution_count": 11,
   "metadata": {
    "collapsed": false
   },
   "outputs": [
    {
     "name": "stdout",
     "output_type": "stream",
     "text": [
      "Backwards-Communicative-Function:Understanding:Backchannel-in-question-form\n",
      "'Oh, yeah ?'\n",
      "Info-request:Declarative-Wh-Question\n",
      "'Whoever Troy Aikman is.'\n",
      "Info-request:Open-Question\n",
      "'How do you feel about that ?'\n",
      "Info-request:Or-Clause\n",
      "'or, how do you work your budgeting ?'\n",
      "Info-request:Or-Question\n",
      "'Are you, uh, shooting for a bachelor's now, or a master's, or what ?'\n",
      "Info-request:Wh-Question\n",
      "'what is it, uh, the act where they had to cut everything across the board'\n",
      "Info-request:Yes-No-Question\n",
      "'are you on an exercise program now'\n"
     ]
    }
   ],
   "source": [
    "queries =  [\n",
    " 'Backwards-Communicative-Function:Understanding:Backchannel-in-question-form',\n",
    " 'Info-request:Declarative-Wh-Question',\n",
    " 'Info-request:Open-Question',\n",
    " 'Info-request:Or-Clause',\n",
    " 'Info-request:Or-Question',\n",
    " 'Info-request:Wh-Question',\n",
    " 'Info-request:Yes-No-Question']\n",
    "print_mocs(queries)\n",
    "query_mocs['answers'] = get_list(queries)"
   ]
  },
  {
   "cell_type": "markdown",
   "metadata": {},
   "source": [
    "## General Dialogue"
   ]
  },
  {
   "cell_type": "code",
   "execution_count": 12,
   "metadata": {
    "collapsed": false
   },
   "outputs": [
    {
     "name": "stdout",
     "output_type": "stream",
     "text": [
      "Rhetorical-Questions\n",
      "'but hey, what can you do.'\n"
     ]
    }
   ],
   "source": [
    "queries =  ['Rhetorical-Questions']\n",
    "print_mocs(queries)\n",
    "query_mocs['dialog'] = get_list(queries)"
   ]
  },
  {
   "cell_type": "markdown",
   "metadata": {},
   "source": [
    "## Understanding\n",
    "Signals that you understand or completely reject. "
   ]
  },
  {
   "cell_type": "code",
   "execution_count": 13,
   "metadata": {
    "collapsed": false
   },
   "outputs": [
    {
     "name": "stdout",
     "output_type": "stream",
     "text": [
      "Backwards-Communicative-Function:Agreement:Accept\n",
      "'Yeah'\n",
      "Backwards-Communicative-Function:Agreement:Accept-part\n",
      "'he-, he-, he's not bad'\n",
      "Backwards-Communicative-Function:Agreement:Hold-before-answer/agreement\n",
      "'Well, let's see'\n",
      "Backwards-Communicative-Function:Agreement:Maybe\n",
      "'I think so.'\n",
      "Backwards-Communicative-Function:Agreement:Reject\n",
      "'Well, no'\n",
      "Backwards-Communicative-Function:Agreement:Reject-part\n",
      "'I, I don't disagree totally with that'\n",
      "Backwards-Communicative-Function:Understanding:Acknowledge\n",
      "'Uh-huh.'\n",
      "Backwards-Communicative-Function:Understanding:Appreciation\n",
      "'My goodness.'\n",
      "Backwards-Communicative-Function:Understanding:Backchannel-in-question-form\n",
      "'He's one of the two, huh.'\n",
      "Backwards-Communicative-Function:Understanding:Downplayer\n",
      "'That's okay'\n",
      "Backwards-Communicative-Function:Understanding:Repeat-phrase\n",
      "'Twelve and sixteen.'\n",
      "Backwards-Communicative-Function:Understanding:Response Acknowledgement\n",
      "'Oh.'\n",
      "Backwards-Communicative-Function:Understanding:Sympathy\n",
      "'Oh, I'm so sorry.'\n"
     ]
    }
   ],
   "source": [
    "# queries = ['Understanding', 'Agreement']\n",
    "queries = ['Backwards-Communicative-Function:Agreement:Accept',\n",
    " 'Backwards-Communicative-Function:Agreement:Accept-part',\n",
    " 'Backwards-Communicative-Function:Agreement:Hold-before-answer/agreement',\n",
    " 'Backwards-Communicative-Function:Agreement:Maybe',\n",
    " 'Backwards-Communicative-Function:Agreement:Reject',\n",
    " 'Backwards-Communicative-Function:Agreement:Reject-part',\n",
    " 'Backwards-Communicative-Function:Understanding:Acknowledge',\n",
    " 'Backwards-Communicative-Function:Understanding:Appreciation',\n",
    " 'Backwards-Communicative-Function:Understanding:Backchannel-in-question-form',\n",
    " 'Backwards-Communicative-Function:Understanding:Downplayer',\n",
    " 'Backwards-Communicative-Function:Understanding:Repeat-phrase',\n",
    " 'Backwards-Communicative-Function:Understanding:Response Acknowledgement',\n",
    " 'Backwards-Communicative-Function:Understanding:Sympathy']\n",
    "print_mocs(queries)\n",
    "query_mocs['understanding'] = get_list(queries)"
   ]
  },
  {
   "cell_type": "markdown",
   "metadata": {},
   "source": [
    "## Clarification\n",
    "Questions asked when things aren't clear and the repsonses to be made when those things are not clear"
   ]
  },
  {
   "cell_type": "code",
   "execution_count": 14,
   "metadata": {
    "collapsed": false
   },
   "outputs": [
    {
     "name": "stdout",
     "output_type": "stream",
     "text": [
      "Backwards-Communicative-Function:Understanding:Correct-misspeaking\n",
      "'Midnight.'\n",
      "Backwards-Communicative-Function:Understanding:Repeat-phrase\n",
      "'yeah'\n",
      "Backwards-Communicative-Function:Understanding:Signal-non-understanding\n",
      "'Locust Hill ?'\n",
      "Backwards-Communicative-Function:Understanding:Summarize/reformulate\n",
      "'You were helping your parents.'\n"
     ]
    }
   ],
   "source": [
    "queries=['Backwards-Communicative-Function:Understanding:Correct-misspeaking',\n",
    "         'Backwards-Communicative-Function:Understanding:Signal-non-understanding',\n",
    "         'Backwards-Communicative-Function:Understanding:Repeat-phrase',\n",
    "         'Backwards-Communicative-Function:Understanding:Summarize/reformulate']\n",
    "print_mocs(queries)\n",
    "query_mocs['clarification'] = get_list(queries)"
   ]
  },
  {
   "cell_type": "markdown",
   "metadata": {},
   "source": [
    "## Kindness"
   ]
  },
  {
   "cell_type": "code",
   "execution_count": 15,
   "metadata": {
    "collapsed": false
   },
   "outputs": [
    {
     "name": "stdout",
     "output_type": "stream",
     "text": [
      "Other-forward-function:Apology\n",
      "'Sorry I roped on Volvos then.'\n",
      "Other-forward-function:Thanking\n",
      "'Well, thank you.'\n",
      "Other-forward-function:You're-Welcome\n",
      "'Uh-huh.'\n"
     ]
    }
   ],
   "source": [
    "queries = [\"Other-forward-function:Apology\", \"Other-forward-function:Thanking\", \"Other-forward-function:You're-Welcome\"]\n",
    "\n",
    "print_mocs(queries)\n",
    "query_mocs['kindness'] = get_list(queries)"
   ]
  },
  {
   "cell_type": "markdown",
   "metadata": {},
   "source": [
    "## Opinions / Personality"
   ]
  },
  {
   "cell_type": "code",
   "execution_count": 14,
   "metadata": {
    "collapsed": false
   },
   "outputs": [
    {
     "ename": "NameError",
     "evalue": "name 'print_mocs' is not defined",
     "output_type": "error",
     "traceback": [
      "\u001b[0;31m---------------------------------------------------------------------------\u001b[0m",
      "\u001b[0;31mNameError\u001b[0m                                 Traceback (most recent call last)",
      "\u001b[0;32m<ipython-input-14-85f77c10049d>\u001b[0m in \u001b[0;36m<module>\u001b[0;34m()\u001b[0m\n\u001b[1;32m      1\u001b[0m \u001b[0mqueries\u001b[0m \u001b[0;34m=\u001b[0m \u001b[0;34m[\u001b[0m\u001b[0;34m'Statement-opinion'\u001b[0m\u001b[0;34m,\u001b[0m \u001b[0;34m'Communicative-Status:Self-talk'\u001b[0m\u001b[0;34m,\u001b[0m \u001b[0;34m'Forward-Communicative-Function:Statement:Statement-non-opinion'\u001b[0m\u001b[0;34m,\u001b[0m \u001b[0;34m'Other-forward-function:Exclamation'\u001b[0m\u001b[0;34m]\u001b[0m\u001b[0;34m\u001b[0m\u001b[0m\n\u001b[0;32m----> 2\u001b[0;31m \u001b[0mprint_mocs\u001b[0m\u001b[0;34m(\u001b[0m\u001b[0mqueries\u001b[0m\u001b[0;34m)\u001b[0m\u001b[0;34m\u001b[0m\u001b[0m\n\u001b[0m\u001b[1;32m      3\u001b[0m \u001b[0mquery_mocs\u001b[0m\u001b[0;34m[\u001b[0m\u001b[0;34m'self'\u001b[0m\u001b[0;34m]\u001b[0m \u001b[0;34m=\u001b[0m \u001b[0mget_list\u001b[0m\u001b[0;34m(\u001b[0m\u001b[0mqueries\u001b[0m\u001b[0;34m)\u001b[0m\u001b[0;34m\u001b[0m\u001b[0m\n",
      "\u001b[0;31mNameError\u001b[0m: name 'print_mocs' is not defined"
     ]
    }
   ],
   "source": [
    "queries = ['Statement-opinion', 'Communicative-Status:Self-talk', 'Forward-Communicative-Function:Statement:Statement-non-opinion', 'Other-forward-function:Exclamation']\n",
    "print_mocs(queries)\n",
    "query_mocs['self'] = get_list(queries)\n"
   ]
  },
  {
   "cell_type": "markdown",
   "metadata": {},
   "source": [
    "## Persuasion / Direction\n"
   ]
  },
  {
   "cell_type": "code",
   "execution_count": 30,
   "metadata": {
    "collapsed": false
   },
   "outputs": [
    {
     "name": "stdout",
     "output_type": "stream",
     "text": [
      "Committing-speaker-future-action:Commit\n",
      "'Let me push one here.'\n",
      "Committing-speaker-future-action:Offer\n",
      "'let me look at my husband and ask him'\n",
      "Influencing-addressee-fut-actn:Open-option\n",
      "'We could talk about my favorite subject.'\n",
      "Info-request:Action-directive\n",
      "'Well, tell me this, uh, Lowell'\n",
      "Rhetorical-Questions\n",
      "'isn't that funny.'\n"
     ]
    }
   ],
   "source": [
    "queries = ['Committing-speaker-future-action:Commit', 'Committing-speaker-future-action:Offer', 'Influencing-addressee-fut-actn:Open-option', 'Rhetorical-Questions','Info-request:Action-directive',]\n",
    "print_mocs(queries)\n",
    "query_mocs['influence'] = get_list(queries)\n"
   ]
  },
  {
   "cell_type": "markdown",
   "metadata": {},
   "source": [
    "# Checking to make sure that all the queries are covered"
   ]
  },
  {
   "cell_type": "code",
   "execution_count": 18,
   "metadata": {
    "collapsed": false
   },
   "outputs": [
    {
     "name": "stdout",
     "output_type": "stream",
     "text": [
      "Evaluating moc \"conventional\"\n",
      "Evaluating moc \"kindness\"\n",
      "Evaluating moc \"clarification\"\n",
      "Evaluating moc \"dialog\"\n",
      "Evaluating moc \"influence\"\n",
      "\t \"Rhetorical-Questions\" already caught by a previous moc\n",
      "Evaluating moc \"qa\"\n",
      "\t \"Info-request:Action-directive\" already caught by a previous moc\n",
      "Evaluating moc \"ignore\"\n",
      "Evaluating moc \"answers\"\n",
      "\t \"Backwards-Communicative-Function:Understanding:Backchannel-in-question-form\" already caught by a previous moc\n",
      "\t \"Info-request:Declarative-Wh-Question\" already caught by a previous moc\n",
      "\t \"Info-request:Open-Question\" already caught by a previous moc\n",
      "\t \"Info-request:Or-Clause\" already caught by a previous moc\n",
      "\t \"Info-request:Or-Question\" already caught by a previous moc\n",
      "\t \"Info-request:Wh-Question\" already caught by a previous moc\n",
      "\t \"Info-request:Yes-No-Question\" already caught by a previous moc\n",
      "Evaluating moc \"understanding\"\n",
      "\t \"Backwards-Communicative-Function:Agreement:Hold-before-answer/agreement\" already caught by a previous moc\n",
      "\t \"Backwards-Communicative-Function:Understanding:Backchannel-in-question-form\" already caught by a previous moc\n",
      "\t \"Backwards-Communicative-Function:Understanding:Repeat-phrase\" already caught by a previous moc\n",
      "Evaluating moc \"self\"\n"
     ]
    }
   ],
   "source": [
    "mocs_remaining = list(mocs)\n",
    "for query_type, query_list in query_mocs.items():\n",
    "    print('Evaluating moc \"{}\"'.format(query_type))\n",
    "    for q in query_list:\n",
    "        if q not in mocs_remaining:\n",
    "            print('\\t \"%s\" already caught by a previous moc' %q)\n",
    "        else:\n",
    "            mocs_remaining.remove(q)\n",
    "if len(mocs_remaining) > 0:\n",
    "    print(\"these are the remaining mocs\")\n",
    "    _ = [print('\\t',m) for m in mocs_remaining]"
   ]
  },
  {
   "cell_type": "markdown",
   "metadata": {},
   "source": [
    "## Examples of remaining mocs"
   ]
  },
  {
   "cell_type": "code",
   "execution_count": 19,
   "metadata": {
    "collapsed": false
   },
   "outputs": [],
   "source": [
    "for m in mocs_remaining:\n",
    "    print(\"{}\\n'{}'\".format(m, get_action_example(m, random=True)))"
   ]
  },
  {
   "cell_type": "code",
   "execution_count": 31,
   "metadata": {
    "collapsed": false
   },
   "outputs": [
    {
     "name": "stdout",
     "output_type": "stream",
     "text": [
      "You can go first\n",
      "or I will.\n",
      "well, we could talk about that\n",
      "and then we could talk a bit about, um, just quality of products in general\n",
      "And I guess, the suggestion is that we maybe talk about a menu for a dinner party, if we wanted to do something like that or\n",
      "We could talk about my favorite subject.\n"
     ]
    },
    {
     "ename": "IndexError",
     "evalue": "list index out of range",
     "output_type": "error",
     "traceback": [
      "\u001b[0;31m---------------------------------------------------------------------------\u001b[0m",
      "\u001b[0;31mIndexError\u001b[0m                                Traceback (most recent call last)",
      "\u001b[0;32m<ipython-input-31-3d583ba2eb4e>\u001b[0m in \u001b[0;36m<module>\u001b[0;34m()\u001b[0m\n\u001b[1;32m      2\u001b[0m \u001b[0;34m\u001b[0m\u001b[0m\n\u001b[1;32m      3\u001b[0m \u001b[0;32mfor\u001b[0m \u001b[0mi\u001b[0m \u001b[0;32min\u001b[0m \u001b[0mrange\u001b[0m\u001b[0;34m(\u001b[0m\u001b[0;36m10\u001b[0m\u001b[0;34m)\u001b[0m\u001b[0;34m:\u001b[0m\u001b[0;34m\u001b[0m\u001b[0m\n\u001b[0;32m----> 4\u001b[0;31m     \u001b[0mprint\u001b[0m\u001b[0;34m(\u001b[0m\u001b[0mget_action_example\u001b[0m\u001b[0;34m(\u001b[0m\u001b[0mtest\u001b[0m\u001b[0;34m,\u001b[0m \u001b[0mi\u001b[0m\u001b[0;34m)\u001b[0m\u001b[0;34m)\u001b[0m\u001b[0;34m\u001b[0m\u001b[0m\n\u001b[0m",
      "\u001b[0;32m<ipython-input-5-3060503a568a>\u001b[0m in \u001b[0;36mget_action_example\u001b[0;34m(m, idx, random)\u001b[0m\n\u001b[1;32m      3\u001b[0m     \u001b[0;32mif\u001b[0m \u001b[0mrandom\u001b[0m\u001b[0;34m:\u001b[0m\u001b[0;34m\u001b[0m\u001b[0m\n\u001b[1;32m      4\u001b[0m         \u001b[0midx\u001b[0m \u001b[0;34m=\u001b[0m \u001b[0mnp\u001b[0m\u001b[0;34m.\u001b[0m\u001b[0mrandom\u001b[0m\u001b[0;34m.\u001b[0m\u001b[0mrandint\u001b[0m\u001b[0;34m(\u001b[0m\u001b[0;36m0\u001b[0m\u001b[0;34m,\u001b[0m \u001b[0mlen\u001b[0m\u001b[0;34m(\u001b[0m\u001b[0mall_ms\u001b[0m\u001b[0;34m)\u001b[0m\u001b[0;34m)\u001b[0m\u001b[0;34m\u001b[0m\u001b[0m\n\u001b[0;32m----> 5\u001b[0;31m     \u001b[0;32mreturn\u001b[0m \u001b[0mall_ms\u001b[0m\u001b[0;34m[\u001b[0m\u001b[0midx\u001b[0m\u001b[0;34m]\u001b[0m\u001b[0;34m\u001b[0m\u001b[0m\n\u001b[0m",
      "\u001b[0;31mIndexError\u001b[0m: list index out of range"
     ]
    }
   ],
   "source": [
    "test = \"Influencing-addressee-fut-actn:Open-option\"\n",
    "\n",
    "for i in range(10):\n",
    "    print(get_action_example(test, i))"
   ]
  },
  {
   "cell_type": "code",
   "execution_count": null,
   "metadata": {
    "collapsed": false
   },
   "outputs": [],
   "source": [
    "# influencing the future\n",
    "['Committing-speaker-future-action:Commit',\n",
    "'Committing-speaker-future-action:Offer',\n",
    "'Influencing-addressee-fut-actn:Open-option']\n"
   ]
  },
  {
   "cell_type": "code",
   "execution_count": 31,
   "metadata": {
    "collapsed": false
   },
   "outputs": [
    {
     "ename": "SyntaxError",
     "evalue": "invalid syntax (<ipython-input-31-435da2dd8294>, line 1)",
     "output_type": "error",
     "traceback": [
      "\u001b[0;36m  File \u001b[0;32m\"<ipython-input-31-435da2dd8294>\"\u001b[0;36m, line \u001b[0;32m1\u001b[0m\n\u001b[0;31m    sup_then=  \"declaration\": {\u001b[0m\n\u001b[0m                            ^\u001b[0m\n\u001b[0;31mSyntaxError\u001b[0m\u001b[0;31m:\u001b[0m invalid syntax\n"
     ]
    }
   ],
   "source": [
    "sup_then=  \\\n",
    "\"declaration\": {\n",
    "    \"opinionated\": \"I think vegetarian parents should give children the choice to be vegetarian or not.\",\n",
    "    \"fact / certain declaration\" : \"The capital of Alabama is Montegomery.\",\n",
    "    \"uncertain declaration\" : \"I think Hemingway's cats might have had 6 toes on each paw.\",\n",
    "    \"exclamation\": \"Wow.\",\n",
    "    \"offer\": \"I can inform the president, if you want.\",\n",
    "    \"future-commitment\": \"I'm gonna tell my wife about this chat.\",\n",
    "},\n",
    "\"understanding\": {\n",
    "    \"appreciation\": \"Thanks so much for the advice\",\n",
    "    \"apology\": \"My bad.\",\n",
    "    \"acknowledgement\": \"I know what you're talking about \",\n",
    "    \"full disagreement\" : \"The world doesn't work that way.\",\n",
    "    \"partial disagreement\": \"I don't think you're right, but I'm not sure\",\n",
    "    \"partial agreement\": \"I guess you're right, but I think it's possible they may have thought of this before\",\n",
    "    \"full agreement\": \"Absolutely true.\",\n",
    "\n",
    "},\n",
    "\"question\": {\n",
    "    \"Context based question\": \"Did you ever find the dog you were looking for?\",\n",
    "    \"Ask for Opinion\": \"What do you think about 80s music?\",\n",
    "    \"Clarifying Question\": \"What do you mean you jumped over the grand canyon?\",\n",
    "    \"Factoid Question\": \"What's the capital of Alabama?\"\n",
    "},\n",
    "\"answer\": {\n",
    "    \"factoid based answer\": \"The capital of Alabama is Montegomery.\",\n",
    "    \"opinion based answer\": \"I think we should give free coffee to tired people.\",\n",
    "    \"i dont know answer\": \"I'm not really not sure\",\n",
    "    \"maybe\": \"That may be the case, but I'm not sure\",\n",
    "\n",
    "    \"full disagreement\": \"Nope\",\n",
    "    \"partial disagreement\": \"I don't think you're right, but I'm not sure\",\n",
    "    \"partial agreement\": \"I guess you're right, but I think it's possible they may have thought of this before\",\n",
    "    \"full agreement\": \"Absolutely true.\",\n",
    "    \"other answer\": \"\"\n",
    "},\n",
    "\"narrative\" : {\n",
    "    \"start story\" : \"One time I was spelunking in Santa Cruz\",\n",
    "    \"narrative content\" : \"While I was there, I found a spider the size of my hand\",\n",
    "},\n",
    "\"conversational_formality\": {\n",
    "    \"closing\": \"Goodbye\",\n",
    "    \"courtesies\": [\n",
    "        \"Thank you\",\n",
    "        \"You're welcome!\"\n",
    "    ],\n",
    "    \"opening\": \"Hi there!\"\n",
    "},\n",
    "\"empathy\": {\n",
    "    \"sympathy\": \"I'm so sorry for your loss\",\n",
    "    \"relating\": \"Wow I also like to play the Banjo\",\n",
    "    \"compliment\": \"You sound like you're doing so well\"\n",
    "},\n",
    "\n",
    "\n",
    "\"influence\": {\n",
    "    \"Rhetorical-Question\": \"Can you blame your dog for wanting attention?\",\n",
    "    \"steer conversation\": \"I'm gonna change the subject to Baseball\",\n",
    "    \"suggestion\": \"Don't you think you should listen to what your kids say?\",\n",
    "    \"command\": \"Stop telling your dog to jump through hoops!\"\n",
    "},\n",
    "\n",
    "\"identity\": {\n",
    "    \"identifying information\": [\n",
    "        \"I am thirty years old\",\n",
    "        \"I was born in a factory\"\n",
    "    ],\n",
    "    \"referene to past\" : \"I once backed my car into a trash can.\",\n",
    "},\n",
    "\n",
    "\"clarification\": {\n",
    "    \"clarifying question\": \"What do you mean you jumped over the grand canyon?\",\n",
    "    \"correct misspeaking\": \"I meant to say that \",\n",
    "    \"Summarize/reformulate\": \"I'll give my dog treats whenever it tries to jump\",\n",
    "    \"Signal non-understanding\": \"Um, I'm not sure what you mean by that.\",\n",
    "    \"Repeat phrase\": \"I said, I'll teach my dog how to jump through the hoop.\"\n",
    "},\n",
    "\n",
    "\"humor\": {\n",
    "    \"rhetorical question\": \"Can you blame your dog for wanting attention?\",\n",
    "    \"wit/wordplay\": \"Time flies like an arrow; fruit flies like a banana.\",\n",
    "    \"pun\": \"I'm reading a book about anti-gravity. It's impossible to put down.\",\n",
    "    \"joke\": \"I dreamt I was forced to eat a giant marshmallow. When I woke up, my pillow was gone.\",\n",
    "    \"sarcasm\": \"I totally want to be run over by a car\"\n",
    "},\n",
    "\n",
    "\"other\": {\n",
    "    \"filler word\": \"Um.\"\n",
    "},"
   ]
  },
  {
   "cell_type": "code",
   "execution_count": 37,
   "metadata": {
    "collapsed": false,
    "scrolled": false
   },
   "outputs": [
    {
     "name": "stdout",
     "output_type": "stream",
     "text": [
      "answer\n",
      "clarification\n",
      "conversational_formality\n",
      "declaration\n",
      "empathy\n",
      "humor\n",
      "identity\n",
      "influence\n",
      "other\n",
      "question\n",
      "understanding\n"
     ]
    },
    {
     "data": {
      "text/plain": [
       "[None, None, None, None, None, None, None, None, None, None, None]"
      ]
     },
     "execution_count": 37,
     "metadata": {},
     "output_type": "execute_result"
    }
   ],
   "source": [
    "import json\n",
    "# print(json.dumps(sup_then, sort_keys=True,\n",
    "#                   indent=4, separators=(',', ': ')))\n",
    "[print(p) for p in sorted(sup_then.keys())]"
   ]
  },
  {
   "cell_type": "code",
   "execution_count": null,
   "metadata": {
    "collapsed": true
   },
   "outputs": [],
   "source": []
  },
  {
   "cell_type": "code",
   "execution_count": null,
   "metadata": {
    "collapsed": true
   },
   "outputs": [],
   "source": []
  },
  {
   "cell_type": "code",
   "execution_count": null,
   "metadata": {
    "collapsed": true
   },
   "outputs": [],
   "source": []
  },
  {
   "cell_type": "code",
   "execution_count": null,
   "metadata": {
    "collapsed": true
   },
   "outputs": [],
   "source": []
  },
  {
   "cell_type": "code",
   "execution_count": null,
   "metadata": {
    "collapsed": true
   },
   "outputs": [],
   "source": []
  },
  {
   "cell_type": "code",
   "execution_count": null,
   "metadata": {
    "collapsed": true
   },
   "outputs": [],
   "source": []
  },
  {
   "cell_type": "code",
   "execution_count": null,
   "metadata": {
    "collapsed": true
   },
   "outputs": [],
   "source": []
  },
  {
   "cell_type": "code",
   "execution_count": null,
   "metadata": {
    "collapsed": true
   },
   "outputs": [],
   "source": []
  },
  {
   "cell_type": "code",
   "execution_count": null,
   "metadata": {
    "collapsed": true
   },
   "outputs": [],
   "source": []
  },
  {
   "cell_type": "code",
   "execution_count": null,
   "metadata": {
    "collapsed": true
   },
   "outputs": [],
   "source": []
  },
  {
   "cell_type": "code",
   "execution_count": null,
   "metadata": {
    "collapsed": true
   },
   "outputs": [],
   "source": []
  },
  {
   "cell_type": "code",
   "execution_count": null,
   "metadata": {
    "collapsed": true
   },
   "outputs": [],
   "source": []
  },
  {
   "cell_type": "code",
   "execution_count": null,
   "metadata": {
    "collapsed": true
   },
   "outputs": [],
   "source": []
  }
 ],
 "metadata": {
  "kernelspec": {
   "display_name": "Python 3",
   "language": "python",
   "name": "python3"
  },
  "language_info": {
   "codemirror_mode": {
    "name": "ipython",
    "version": 3
   },
   "file_extension": ".py",
   "mimetype": "text/x-python",
   "name": "python",
   "nbconvert_exporter": "python",
   "pygments_lexer": "ipython3",
   "version": "3.4.3"
  }
 },
 "nbformat": 4,
 "nbformat_minor": 2
}
