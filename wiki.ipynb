{
 "cells": [
  {
   "cell_type": "code",
   "execution_count": 205,
   "metadata": {
    "collapsed": true
   },
   "outputs": [],
   "source": [
    "import xml.etree.ElementTree as etree\n",
    "from lxml.etree import iterparse\n",
    "from multiprocessing import Process, JoinableQueue, Pool\n",
    "from tqdm import tqdm\n",
    "from corenlp_pywrap import pywrap\n",
    "import re"
   ]
  },
  {
   "cell_type": "code",
   "execution_count": 133,
   "metadata": {
    "collapsed": false
   },
   "outputs": [],
   "source": [
    "def iterate_wiki_xml(queue):\n",
    "    count = 0\n",
    "    for event, elem in etree.iterparse('datasets/wikipedia/wiki.xml', events=['start', 'end']):\n",
    "        if elem.tag == ns + 'page' and event == 'end': \n",
    "            print(\"added page to queue\")\n",
    "            queue.put(elem)\n",
    "            count += 1\n",
    "        if count > 1:\n",
    "            break\n",
    "        print(\"iterating\")\n",
    "#         if elem.tag == ns + 'page' and event == 'start':\n",
    "#             elem.clear()"
   ]
  },
  {
   "cell_type": "code",
   "execution_count": 30,
   "metadata": {
    "collapsed": false
   },
   "outputs": [],
   "source": [
    "ns = \"{http://www.mediawiki.org/xml/export-0.10/}\"\n",
    "lines = 945682732"
   ]
  },
  {
   "cell_type": "code",
   "execution_count": 167,
   "metadata": {
    "collapsed": false,
    "scrolled": true
   },
   "outputs": [
    {
     "name": "stderr",
     "output_type": "stream",
     "text": [
      "\n",
      "0it [00:00, ?it/s]\u001b[A\n",
      "945682733it [22:17, 706981.93it/s]                               \n"
     ]
    }
   ],
   "source": [
    "f = open('datasets/wikipedia/wiki.xml', 'rb')\n",
    "indices = []\n",
    "tqdm().close()\n",
    "index = 0\n",
    "for line in tqdm(f, total=lines, position=0):\n",
    "    line = line.decode('utf-8')\n",
    "    if \"<page\" in line:\n",
    "        indices.append(index)\n",
    "    index = f.tell()\n",
    "indices\n",
    "f.close()"
   ]
  },
  {
   "cell_type": "code",
   "execution_count": 243,
   "metadata": {
    "collapsed": false
   },
   "outputs": [],
   "source": [
    "import _pickle\n",
    "with open('datasets/wikipedia/indices.pkl', 'wb') as f:\n",
    "    _pickle.dump(indices, f)"
   ]
  },
  {
   "cell_type": "code",
   "execution_count": 217,
   "metadata": {
    "collapsed": true
   },
   "outputs": [],
   "source": [
    "_MEDIA_CAT = \"\"\"\n",
    "  [Ii]mage|[Cc]ategory      # English\n",
    " |[Aa]rchivo                # Spanish\n",
    " |[Ff]ile                   # English, Italian\n",
    " |[CcKk]at[ée]gor[íi][ea]   # Dutch, German, French, Italian, Spanish, Polish, Latin\n",
    " |[Bb]estand                # Dutch\n",
    " |[Bb]ild                   # German\n",
    " |[Ff]icher                 # French\n",
    " |[Pp]lik                   # Polish\n",
    " |[Ff]asciculus             # Latin\n",
    "\"\"\"\n",
    "\n",
    "_UNWANTED = re.compile(r\"\"\"\n",
    "  (:?\n",
    "    \\{\\{ .*? \\}\\}                           # templates\n",
    "  | \\| .*? \\n                               # left behind from templates\n",
    "  | \\}\\}                                    # left behind from templates\n",
    "  | <!-- .*? -->\n",
    "  | <div .*?> .*? </div>\n",
    "  | <math> .*? </math>\n",
    "  | <nowiki> .*? </nowiki>\n",
    "  | <ref .*?> .*? </ref>\n",
    "  | <ref .*?/>\n",
    "  | <span .*?> .*? </span>\n",
    "  | \\[\\[ (:?%s): (\\[\\[.*?\\]\\]|.)*? \\]\\]\n",
    "  | \\[\\[ [a-z]{2,}:.*? \\]\\]                 # interwiki links\n",
    "  | =+                                      # headers\n",
    "  | \\{\\| .*? \\|\\}\n",
    "  | \\[\\[ (:? [^]]+ \\|)?\n",
    "  | \\]\\]\n",
    "  | '{2,}\n",
    "  )\n",
    "\"\"\" % _MEDIA_CAT,\n",
    "re.DOTALL | re.MULTILINE | re.VERBOSE)\n",
    "\n",
    "\n",
    "def text_only(text):\n",
    "    return _UNWANTED.sub(\"\", text)"
   ]
  },
  {
   "cell_type": "code",
   "execution_count": 208,
   "metadata": {
    "collapsed": false
   },
   "outputs": [],
   "source": [
    "def process(index, nextIndex):\n",
    "    with open('datasets/wikipedia/wiki.xml', 'rb') as f:\n",
    "        f.seek(index)\n",
    "        data = f.read(nextIndex - index).decode('utf-8')\n",
    "        elem = etree.fromstring(data)\n",
    "        print(elem)\n",
    "        doc = process_page(elem)\n",
    "    if doc:\n",
    "        c['corpora']['wiki'].insert_one(doc)\n",
    "    return doc"
   ]
  },
  {
   "cell_type": "code",
   "execution_count": 242,
   "metadata": {
    "collapsed": false
   },
   "outputs": [
    {
     "data": {
      "text/plain": [
       "(2848, 3512)"
      ]
     },
     "execution_count": 242,
     "metadata": {},
     "output_type": "execute_result"
    }
   ],
   "source": [
    "list(zip(indices, indices[1:] + [None]))[0]"
   ]
  },
  {
   "cell_type": "code",
   "execution_count": 46,
   "metadata": {
    "collapsed": false
   },
   "outputs": [
    {
     "data": {
      "text/plain": [
       "'#REDIRECT [[Computer accessibility]]\\n\\n{{Redr|move|from CamelCase|up}}'"
      ]
     },
     "execution_count": 46,
     "metadata": {},
     "output_type": "execute_result"
    }
   ],
   "source": [
    "elem.findall(\".//{}revision/{}text\".format(ns, ns))[0].text\n",
    "# elem.findall(\".//{}title\".format(ns))[0].text"
   ]
  },
  {
   "cell_type": "code",
   "execution_count": 238,
   "metadata": {
    "collapsed": true
   },
   "outputs": [],
   "source": [
    "def process_page(elem):\n",
    "    full_annotator_list = [\"ssplit\"]\n",
    "    cn = pywrap.CoreNLP(url='http://172.17.0.2:9000', annotator_list = full_annotator_list)\n",
    "    text = elem.findall(\".//revision/text\")[0].text\n",
    "    title = elem.findall(\".//title\")[0].text\n",
    "    text = text_only(text)\n",
    "    if text.startswith(\"#REDIRECT\"):\n",
    "        return\n",
    "    paras = re.split(r'\\n', text)\n",
    "    doc = {}\n",
    "    doc['title'] = title\n",
    "    doc['paras'] = []\n",
    "    for para in paras:\n",
    "        if para:\n",
    "            para = para.encode('latin-1', 'ignore').decode('latin-1')\n",
    "            sentences = cn.basic(para).json()['sentences']\n",
    "            endOfLast = 0\n",
    "            doc['paras'].append([])\n",
    "            for sent in sentences:\n",
    "                last_word = sent['tokens'][-1]\n",
    "                sentence_text = para[endOfLast:last_word['characterOffsetEnd']]\n",
    "                endOfLast = last_word['characterOffsetEnd']\n",
    "                tokens = list(map(lambda x: x['word'], sent['tokens']))\n",
    "                doc['paras'][-1].append({'text': sentence_text, 'tokens': tokens})        \n",
    "    return doc"
   ]
  },
  {
   "cell_type": "code",
   "execution_count": 188,
   "metadata": {
    "collapsed": false
   },
   "outputs": [
    {
     "ename": "UnicodeDecodeError",
     "evalue": "'ascii' codec can't decode byte 0xc3 in position 2221: ordinal not in range(128)",
     "output_type": "error",
     "traceback": [
      "\u001b[0;31m---------------------------------------------------------------------------\u001b[0m",
      "\u001b[0;31mUnicodeDecodeError\u001b[0m                        Traceback (most recent call last)",
      "\u001b[0;32m<ipython-input-188-7b5b06b0547b>\u001b[0m in \u001b[0;36m<module>\u001b[0;34m()\u001b[0m\n\u001b[0;32m----> 1\u001b[0;31m \u001b[0mprocess\u001b[0m\u001b[0;34m(\u001b[0m\u001b[0mindices\u001b[0m\u001b[0;34m[\u001b[0m\u001b[0;36m0\u001b[0m\u001b[0;34m]\u001b[0m\u001b[0;34m)\u001b[0m\u001b[0;34m\u001b[0m\u001b[0m\n\u001b[0m",
      "\u001b[0;32m<ipython-input-187-8fe247d1a1ae>\u001b[0m in \u001b[0;36mprocess\u001b[0;34m(index)\u001b[0m\n\u001b[1;32m      3\u001b[0m         \u001b[0mf\u001b[0m\u001b[0;34m.\u001b[0m\u001b[0mseek\u001b[0m\u001b[0;34m(\u001b[0m\u001b[0mindex\u001b[0m\u001b[0;34m)\u001b[0m\u001b[0;34m\u001b[0m\u001b[0m\n\u001b[1;32m      4\u001b[0m         \u001b[0mparser\u001b[0m \u001b[0;34m=\u001b[0m \u001b[0metree\u001b[0m\u001b[0;34m.\u001b[0m\u001b[0mXMLParser\u001b[0m\u001b[0;34m(\u001b[0m\u001b[0mencoding\u001b[0m\u001b[0;34m=\u001b[0m\u001b[0;34m'utf-8'\u001b[0m\u001b[0;34m)\u001b[0m\u001b[0;34m\u001b[0m\u001b[0m\n\u001b[0;32m----> 5\u001b[0;31m         \u001b[0;32mfor\u001b[0m \u001b[0mevent\u001b[0m\u001b[0;34m,\u001b[0m \u001b[0melem\u001b[0m \u001b[0;32min\u001b[0m \u001b[0metree\u001b[0m\u001b[0;34m.\u001b[0m\u001b[0miterparse\u001b[0m\u001b[0;34m(\u001b[0m\u001b[0mf\u001b[0m\u001b[0;34m,\u001b[0m \u001b[0mevents\u001b[0m\u001b[0;34m=\u001b[0m\u001b[0;34m[\u001b[0m\u001b[0;34m'start'\u001b[0m\u001b[0;34m,\u001b[0m \u001b[0;34m'end'\u001b[0m\u001b[0;34m]\u001b[0m\u001b[0;34m,\u001b[0m \u001b[0mparser\u001b[0m\u001b[0;34m=\u001b[0m\u001b[0mparser\u001b[0m\u001b[0;34m)\u001b[0m\u001b[0;34m:\u001b[0m\u001b[0;34m\u001b[0m\u001b[0m\n\u001b[0m\u001b[1;32m      6\u001b[0m             \u001b[0;32mif\u001b[0m \u001b[0melem\u001b[0m\u001b[0;34m.\u001b[0m\u001b[0mtag\u001b[0m \u001b[0;34m==\u001b[0m \u001b[0mns\u001b[0m \u001b[0;34m+\u001b[0m \u001b[0;34m'page'\u001b[0m \u001b[0;32mand\u001b[0m \u001b[0mevent\u001b[0m \u001b[0;34m==\u001b[0m \u001b[0;34m'end'\u001b[0m\u001b[0;34m:\u001b[0m\u001b[0;34m\u001b[0m\u001b[0m\n\u001b[1;32m      7\u001b[0m                 \u001b[0mdoc\u001b[0m \u001b[0;34m=\u001b[0m \u001b[0mprocess_page\u001b[0m\u001b[0;34m(\u001b[0m\u001b[0melem\u001b[0m\u001b[0;34m)\u001b[0m\u001b[0;34m\u001b[0m\u001b[0m\n",
      "\u001b[0;32m/usr/lib/python3.4/xml/etree/ElementTree.py\u001b[0m in \u001b[0;36m__next__\u001b[0;34m(self)\u001b[0m\n\u001b[1;32m   1300\u001b[0m                 \u001b[0;32mraise\u001b[0m \u001b[0mStopIteration\u001b[0m\u001b[0;34m\u001b[0m\u001b[0m\n\u001b[1;32m   1301\u001b[0m             \u001b[0;31m# load event buffer\u001b[0m\u001b[0;34m\u001b[0m\u001b[0;34m\u001b[0m\u001b[0m\n\u001b[0;32m-> 1302\u001b[0;31m             \u001b[0mdata\u001b[0m \u001b[0;34m=\u001b[0m \u001b[0mself\u001b[0m\u001b[0;34m.\u001b[0m\u001b[0m_file\u001b[0m\u001b[0;34m.\u001b[0m\u001b[0mread\u001b[0m\u001b[0;34m(\u001b[0m\u001b[0;36m16\u001b[0m \u001b[0;34m*\u001b[0m \u001b[0;36m1024\u001b[0m\u001b[0;34m)\u001b[0m\u001b[0;34m\u001b[0m\u001b[0m\n\u001b[0m\u001b[1;32m   1303\u001b[0m             \u001b[0;32mif\u001b[0m \u001b[0mdata\u001b[0m\u001b[0;34m:\u001b[0m\u001b[0;34m\u001b[0m\u001b[0m\n\u001b[1;32m   1304\u001b[0m                 \u001b[0mself\u001b[0m\u001b[0;34m.\u001b[0m\u001b[0m_parser\u001b[0m\u001b[0;34m.\u001b[0m\u001b[0mfeed\u001b[0m\u001b[0;34m(\u001b[0m\u001b[0mdata\u001b[0m\u001b[0;34m)\u001b[0m\u001b[0;34m\u001b[0m\u001b[0m\n",
      "\u001b[0;32m/usr/lib/python3.4/encodings/ascii.py\u001b[0m in \u001b[0;36mdecode\u001b[0;34m(self, input, final)\u001b[0m\n\u001b[1;32m     24\u001b[0m \u001b[0;32mclass\u001b[0m \u001b[0mIncrementalDecoder\u001b[0m\u001b[0;34m(\u001b[0m\u001b[0mcodecs\u001b[0m\u001b[0;34m.\u001b[0m\u001b[0mIncrementalDecoder\u001b[0m\u001b[0;34m)\u001b[0m\u001b[0;34m:\u001b[0m\u001b[0;34m\u001b[0m\u001b[0m\n\u001b[1;32m     25\u001b[0m     \u001b[0;32mdef\u001b[0m \u001b[0mdecode\u001b[0m\u001b[0;34m(\u001b[0m\u001b[0mself\u001b[0m\u001b[0;34m,\u001b[0m \u001b[0minput\u001b[0m\u001b[0;34m,\u001b[0m \u001b[0mfinal\u001b[0m\u001b[0;34m=\u001b[0m\u001b[0;32mFalse\u001b[0m\u001b[0;34m)\u001b[0m\u001b[0;34m:\u001b[0m\u001b[0;34m\u001b[0m\u001b[0m\n\u001b[0;32m---> 26\u001b[0;31m         \u001b[0;32mreturn\u001b[0m \u001b[0mcodecs\u001b[0m\u001b[0;34m.\u001b[0m\u001b[0mascii_decode\u001b[0m\u001b[0;34m(\u001b[0m\u001b[0minput\u001b[0m\u001b[0;34m,\u001b[0m \u001b[0mself\u001b[0m\u001b[0;34m.\u001b[0m\u001b[0merrors\u001b[0m\u001b[0;34m)\u001b[0m\u001b[0;34m[\u001b[0m\u001b[0;36m0\u001b[0m\u001b[0;34m]\u001b[0m\u001b[0;34m\u001b[0m\u001b[0m\n\u001b[0m\u001b[1;32m     27\u001b[0m \u001b[0;34m\u001b[0m\u001b[0m\n\u001b[1;32m     28\u001b[0m \u001b[0;32mclass\u001b[0m \u001b[0mStreamWriter\u001b[0m\u001b[0;34m(\u001b[0m\u001b[0mCodec\u001b[0m\u001b[0;34m,\u001b[0m\u001b[0mcodecs\u001b[0m\u001b[0;34m.\u001b[0m\u001b[0mStreamWriter\u001b[0m\u001b[0;34m)\u001b[0m\u001b[0;34m:\u001b[0m\u001b[0;34m\u001b[0m\u001b[0m\n",
      "\u001b[0;31mUnicodeDecodeError\u001b[0m: 'ascii' codec can't decode byte 0xc3 in position 2221: ordinal not in range(128)"
     ]
    }
   ],
   "source": [
    "process(indices[0])"
   ]
  },
  {
   "cell_type": "code",
   "execution_count": 139,
   "metadata": {
    "collapsed": false
   },
   "outputs": [
    {
     "name": "stdout",
     "output_type": "stream",
     "text": [
      "iterating\n",
      "iterating\n",
      "iterating\n",
      "iterating\n",
      "iterating\n",
      "iterating\n",
      "iterating\n",
      "iterating\n",
      "iterating\n",
      "iterating\n",
      "iterating\n",
      "iterating\n",
      "iterating\n",
      "iterating\n",
      "iterating\n",
      "iterating\n",
      "iterating\n",
      "iterating\n",
      "iterating\n",
      "iterating\n",
      "iterating\n",
      "iterating\n",
      "iterating\n",
      "iterating\n",
      "iterating\n",
      "iterating\n",
      "iterating\n",
      "iterating\n",
      "iterating\n",
      "iterating\n",
      "iterating\n",
      "iterating\n",
      "iterating\n",
      "iterating\n",
      "iterating\n",
      "iterating\n",
      "iterating\n",
      "iterating\n",
      "iterating\n",
      "iterating\n",
      "iterating\n",
      "iterating\n",
      "iterating\n",
      "iterating\n",
      "iterating\n",
      "iterating\n",
      "iterating\n",
      "iterating\n",
      "iterating\n",
      "iterating\n",
      "iterating\n",
      "iterating\n",
      "iterating\n",
      "iterating\n",
      "iterating\n",
      "iterating\n",
      "iterating\n",
      "iterating\n",
      "iterating\n",
      "iterating\n",
      "iterating\n",
      "iterating\n",
      "iterating\n",
      "iterating\n",
      "iterating\n",
      "iterating\n",
      "iterating\n",
      "iterating\n",
      "iterating\n",
      "iterating\n",
      "iterating\n",
      "iterating\n",
      "iterating\n",
      "iterating\n",
      "iterating\n",
      "iterating\n",
      "iterating\n",
      "iterating\n",
      "iterating\n",
      "iterating\n",
      "iterating\n",
      "iterating\n",
      "iterating\n",
      "iterating\n",
      "iterating\n",
      "iterating\n",
      "iterating\n",
      "iterating\n",
      "iterating\n",
      "iterating\n",
      "iterating\n",
      "iterating\n",
      "iterating\n",
      "iterating\n",
      "iterating\n",
      "iterating\n",
      "iterating\n",
      "iterating\n",
      "iterating\n",
      "iterating\n",
      "iterating\n",
      "iterating\n",
      "iterating\n",
      "iterating\n",
      "iterating\n",
      "iterating\n",
      "iterating\n",
      "iterating\n",
      "iterating\n",
      "iterating\n",
      "iterating\n",
      "iterating\n",
      "iterating\n",
      "iterating\n",
      "iterating\n",
      "iterating\n",
      "added page to queue\n",
      "iterating\n",
      "iterating\n",
      "iterating\n",
      "iterating\n",
      "iterating\n",
      "iterating\n",
      "iterating\n",
      "iterating\n",
      "iterating\n",
      "iterating\n",
      "iterating\n",
      "iterating\n",
      "iterating\n",
      "iterating\n",
      "iterating\n",
      "iterating\n",
      "iterating\n",
      "iterating\n",
      "iterating\n",
      "iterating\n",
      "iterating\n",
      "iterating\n",
      "iterating\n",
      "iterating\n",
      "iterating\n",
      "iterating\n",
      "iterating\n",
      "iterating\n",
      "iterating\n",
      "iterating\n",
      "added page to queue\n"
     ]
    },
    {
     "name": "stderr",
     "output_type": "stream",
     "text": [
      "Process Process-203:\n",
      "  File \"/usr/lib/python3.4/threading.py\", line 1060, in join\n",
      "    self._wait_for_tstate_lock()\n",
      "Traceback (most recent call last):\n",
      "  File \"/usr/lib/python3.4/multiprocessing/process.py\", line 257, in _bootstrap\n",
      "    util._exit_function()\n",
      "  File \"/usr/lib/python3.4/multiprocessing/util.py\", line 312, in _exit_function\n",
      "    _run_finalizers()\n",
      "  File \"/usr/lib/python3.4/multiprocessing/util.py\", line 252, in _run_finalizers\n",
      "    finalizer()\n"
     ]
    },
    {
     "ename": "KeyboardInterrupt",
     "evalue": "",
     "output_type": "error",
     "traceback": [
      "\u001b[0;31m---------------------------------------------------------------------------\u001b[0m",
      "\u001b[0;31mKeyboardInterrupt\u001b[0m                         Traceback (most recent call last)",
      "\u001b[0;32m<ipython-input-139-06b2ddf8ed62>\u001b[0m in \u001b[0;36m<module>\u001b[0;34m()\u001b[0m\n\u001b[1;32m      3\u001b[0m \u001b[0mp\u001b[0m\u001b[0;34m.\u001b[0m\u001b[0mdaemon\u001b[0m \u001b[0;34m=\u001b[0m \u001b[0;32mFalse\u001b[0m\u001b[0;34m\u001b[0m\u001b[0m\n\u001b[1;32m      4\u001b[0m \u001b[0mp\u001b[0m\u001b[0;34m.\u001b[0m\u001b[0mstart\u001b[0m\u001b[0;34m(\u001b[0m\u001b[0;34m)\u001b[0m\u001b[0;34m\u001b[0m\u001b[0m\n\u001b[0;32m----> 5\u001b[0;31m \u001b[0mp\u001b[0m\u001b[0;34m.\u001b[0m\u001b[0mjoin\u001b[0m\u001b[0;34m(\u001b[0m\u001b[0;34m)\u001b[0m\u001b[0;34m\u001b[0m\u001b[0m\n\u001b[0m\u001b[1;32m      6\u001b[0m \u001b[0mpool\u001b[0m \u001b[0;34m=\u001b[0m \u001b[0mPool\u001b[0m\u001b[0;34m(\u001b[0m\u001b[0;36m4\u001b[0m\u001b[0;34m,\u001b[0m \u001b[0mworker_main\u001b[0m\u001b[0;34m,\u001b[0m \u001b[0;34m(\u001b[0m\u001b[0mqueue\u001b[0m\u001b[0;34m,\u001b[0m\u001b[0;34m)\u001b[0m\u001b[0;34m)\u001b[0m\u001b[0;34m\u001b[0m\u001b[0m\n\u001b[1;32m      7\u001b[0m \u001b[0;34m\u001b[0m\u001b[0m\n",
      "\u001b[0;32m/usr/lib/python3.4/multiprocessing/process.py\u001b[0m in \u001b[0;36mjoin\u001b[0;34m(self, timeout)\u001b[0m\n\u001b[1;32m    119\u001b[0m         \u001b[0;32massert\u001b[0m \u001b[0mself\u001b[0m\u001b[0;34m.\u001b[0m\u001b[0m_parent_pid\u001b[0m \u001b[0;34m==\u001b[0m \u001b[0mos\u001b[0m\u001b[0;34m.\u001b[0m\u001b[0mgetpid\u001b[0m\u001b[0;34m(\u001b[0m\u001b[0;34m)\u001b[0m\u001b[0;34m,\u001b[0m \u001b[0;34m'can only join a child process'\u001b[0m\u001b[0;34m\u001b[0m\u001b[0m\n\u001b[1;32m    120\u001b[0m         \u001b[0;32massert\u001b[0m \u001b[0mself\u001b[0m\u001b[0;34m.\u001b[0m\u001b[0m_popen\u001b[0m \u001b[0;32mis\u001b[0m \u001b[0;32mnot\u001b[0m \u001b[0;32mNone\u001b[0m\u001b[0;34m,\u001b[0m \u001b[0;34m'can only join a started process'\u001b[0m\u001b[0;34m\u001b[0m\u001b[0m\n\u001b[0;32m--> 121\u001b[0;31m         \u001b[0mres\u001b[0m \u001b[0;34m=\u001b[0m \u001b[0mself\u001b[0m\u001b[0;34m.\u001b[0m\u001b[0m_popen\u001b[0m\u001b[0;34m.\u001b[0m\u001b[0mwait\u001b[0m\u001b[0;34m(\u001b[0m\u001b[0mtimeout\u001b[0m\u001b[0;34m)\u001b[0m\u001b[0;34m\u001b[0m\u001b[0m\n\u001b[0m\u001b[1;32m    122\u001b[0m         \u001b[0;32mif\u001b[0m \u001b[0mres\u001b[0m \u001b[0;32mis\u001b[0m \u001b[0;32mnot\u001b[0m \u001b[0;32mNone\u001b[0m\u001b[0;34m:\u001b[0m\u001b[0;34m\u001b[0m\u001b[0m\n\u001b[1;32m    123\u001b[0m             \u001b[0m_children\u001b[0m\u001b[0;34m.\u001b[0m\u001b[0mdiscard\u001b[0m\u001b[0;34m(\u001b[0m\u001b[0mself\u001b[0m\u001b[0;34m)\u001b[0m\u001b[0;34m\u001b[0m\u001b[0m\n",
      "\u001b[0;32m/usr/lib/python3.4/multiprocessing/popen_fork.py\u001b[0m in \u001b[0;36mwait\u001b[0;34m(self, timeout)\u001b[0m\n\u001b[1;32m     52\u001b[0m                     \u001b[0;32mreturn\u001b[0m \u001b[0;32mNone\u001b[0m\u001b[0;34m\u001b[0m\u001b[0m\n\u001b[1;32m     53\u001b[0m             \u001b[0;31m# This shouldn't block if wait() returned successfully.\u001b[0m\u001b[0;34m\u001b[0m\u001b[0;34m\u001b[0m\u001b[0m\n\u001b[0;32m---> 54\u001b[0;31m             \u001b[0;32mreturn\u001b[0m \u001b[0mself\u001b[0m\u001b[0;34m.\u001b[0m\u001b[0mpoll\u001b[0m\u001b[0;34m(\u001b[0m\u001b[0mos\u001b[0m\u001b[0;34m.\u001b[0m\u001b[0mWNOHANG\u001b[0m \u001b[0;32mif\u001b[0m \u001b[0mtimeout\u001b[0m \u001b[0;34m==\u001b[0m \u001b[0;36m0.0\u001b[0m \u001b[0;32melse\u001b[0m \u001b[0;36m0\u001b[0m\u001b[0;34m)\u001b[0m\u001b[0;34m\u001b[0m\u001b[0m\n\u001b[0m\u001b[1;32m     55\u001b[0m         \u001b[0;32mreturn\u001b[0m \u001b[0mself\u001b[0m\u001b[0;34m.\u001b[0m\u001b[0mreturncode\u001b[0m\u001b[0;34m\u001b[0m\u001b[0m\n\u001b[1;32m     56\u001b[0m \u001b[0;34m\u001b[0m\u001b[0m\n",
      "\u001b[0;32m/usr/lib/python3.4/multiprocessing/popen_fork.py\u001b[0m in \u001b[0;36mpoll\u001b[0;34m(self, flag)\u001b[0m\n\u001b[1;32m     28\u001b[0m             \u001b[0;32mwhile\u001b[0m \u001b[0;32mTrue\u001b[0m\u001b[0;34m:\u001b[0m\u001b[0;34m\u001b[0m\u001b[0m\n\u001b[1;32m     29\u001b[0m                 \u001b[0;32mtry\u001b[0m\u001b[0;34m:\u001b[0m\u001b[0;34m\u001b[0m\u001b[0m\n\u001b[0;32m---> 30\u001b[0;31m                     \u001b[0mpid\u001b[0m\u001b[0;34m,\u001b[0m \u001b[0msts\u001b[0m \u001b[0;34m=\u001b[0m \u001b[0mos\u001b[0m\u001b[0;34m.\u001b[0m\u001b[0mwaitpid\u001b[0m\u001b[0;34m(\u001b[0m\u001b[0mself\u001b[0m\u001b[0;34m.\u001b[0m\u001b[0mpid\u001b[0m\u001b[0;34m,\u001b[0m \u001b[0mflag\u001b[0m\u001b[0;34m)\u001b[0m\u001b[0;34m\u001b[0m\u001b[0m\n\u001b[0m\u001b[1;32m     31\u001b[0m                 \u001b[0;32mexcept\u001b[0m \u001b[0mOSError\u001b[0m \u001b[0;32mas\u001b[0m \u001b[0me\u001b[0m\u001b[0;34m:\u001b[0m\u001b[0;34m\u001b[0m\u001b[0m\n\u001b[1;32m     32\u001b[0m                     \u001b[0;32mif\u001b[0m \u001b[0me\u001b[0m\u001b[0;34m.\u001b[0m\u001b[0merrno\u001b[0m \u001b[0;34m==\u001b[0m \u001b[0merrno\u001b[0m\u001b[0;34m.\u001b[0m\u001b[0mEINTR\u001b[0m\u001b[0;34m:\u001b[0m\u001b[0;34m\u001b[0m\u001b[0m\n",
      "\u001b[0;31mKeyboardInterrupt\u001b[0m: "
     ]
    },
    {
     "name": "stderr",
     "output_type": "stream",
     "text": [
      "  File \"/usr/lib/python3.4/multiprocessing/util.py\", line 185, in __call__\n",
      "    res = self._callback(*self._args, **self._kwargs)\n",
      "  File \"/usr/lib/python3.4/multiprocessing/queues.py\", line 196, in _finalize_join\n",
      "    thread.join()\n",
      "  File \"/usr/lib/python3.4/threading.py\", line 1076, in _wait_for_tstate_lock\n",
      "    elif lock.acquire(block, timeout):\n",
      "KeyboardInterrupt\n"
     ]
    }
   ],
   "source": [
    "queue = JoinableQueue(0)\n",
    "p = Process(target=iterate_wiki_xml, args = (queue,))\n",
    "p.daemon = False\n",
    "p.start()\n",
    "p.join()\n",
    "pool = Pool(4, worker_main, (queue,))\n",
    "\n",
    "print(\"processed finished\")\n",
    "\n",
    "queue.join()\n",
    "print(\"queue finished\")\n",
    "pool.terminate()"
   ]
  },
  {
   "cell_type": "code",
   "execution_count": null,
   "metadata": {
    "collapsed": false
   },
   "outputs": [],
   "source": [
    "queue.get(False)"
   ]
  },
  {
   "cell_type": "code",
   "execution_count": 101,
   "metadata": {
    "collapsed": true
   },
   "outputs": [],
   "source": [
    "import os\n",
    "def worker_main(queue):\n",
    "    while True:\n",
    "        item = queue.get(True)\n",
    "        print(os.getpid(), process_page(elem))\n",
    "        queue.task_done()"
   ]
  },
  {
   "cell_type": "code",
   "execution_count": 258,
   "metadata": {
    "collapsed": false
   },
   "outputs": [],
   "source": [
    "index = indices[10000]\n",
    "nextIndex = indices[10001]\n",
    "with open('datasets/wikipedia/wiki.xml', 'rb') as f:\n",
    "    f.seek(index)\n",
    "    if not nextIndex:\n",
    "        data = f.read().decode('utf-8')\n",
    "    else:\n",
    "       data = f.read(nextIndex - index).decode('utf-8')\n",
    "    elem = etree.fromstring(data)\n"
   ]
  },
  {
   "cell_type": "code",
   "execution_count": 259,
   "metadata": {
    "collapsed": false
   },
   "outputs": [],
   "source": [
    "text = elem.findall(\".//revision/text\")[0].text\n",
    "title = elem.findall(\".//title\")[0].text\n"
   ]
  },
  {
   "cell_type": "code",
   "execution_count": 300,
   "metadata": {
    "collapsed": false
   },
   "outputs": [
    {
     "data": {
      "text/plain": [
       "'Various Christian feast dates were used for the New Year in Europe during the Middle Ages, including March 25 (Feast of the Annunciation) and December 25. However, medieval calendars were still displayed in the Roman fashion with twelve columns from January to December. Beginning in the 16th century, European countries began officially making January 1 the start of the New Year once again—sometimes called Circumcision Style because this was the date of the Feast of the Circumcision, being the seventh day after December 25.'"
      ]
     },
     "execution_count": 300,
     "metadata": {},
     "output_type": "execute_result"
    }
   ],
   "source": [
    "list(filter(lambda x: len(x) > 25, map(text_only, re.split('==.*?==|\\n[\\n]+', text))))[4]"
   ]
  },
  {
   "cell_type": "code",
   "execution_count": 270,
   "metadata": {
    "collapsed": false
   },
   "outputs": [
    {
     "data": {
      "text/plain": [
       "'{{About|the month}}\\n{{Redirect|Jan.|other uses|Jan (disambiguation){{!}}Jan}}\\n{{pp-move-indef}}\\n{{Month header}}\\n{{calendar}}\\n\\'\\'\\'January\\'\\'\\' is the first [[month]] of the [[year]] in the [[Julian calendar|Julian]] and [[Gregorian calendar]]s and the first month to have the length of 31 days. The first day of the month is known as [[New Year\\'s Day]]. It is, on average, the coldest month of the year within most of the [[Northern Hemisphere]] (where it is the second month of [[winter]]) and the warmest month of the year within most of the [[Southern Hemisphere]] (where it is the second month of [[summer]]). In the Southern hemisphere, January is the seasonal equivalent of July in the Northern hemisphere and vice versa.\\n\\n[[Ancient Roman]] observances during this month include [[Cervula]], and [[Juvenalia]]; celebrated January 1, as well as one of three  [[Agonalia]], celebrated January 9, and [[Carmentalia]], celebrated January 11. These dates do not correspond to the modern Gregorian calendar. \\n\\n==History==\\n[[File:Les Très Riches Heures du duc de Berry Janvier.jpg|thumb|January, from the \\'\\'[[Très Riches Heures du Duc de Berry]]\\'\\']]\\n\\nJanuary (in Latin, \\'\\'[[Ianuarius]]\\'\\') is named after the [[Latin]] word for door (\\'\\'ianua\\'\\'), since January is the door to the year. The month is conventionally thought of as being named after [[Janus]], the god of beginnings and transitions in [[Roman mythology]], but according to ancient Roman farmers\\' almanacs [[Juno (mythology)|Juno]] was the [[tutelary deity]] of the month.<ref>[[H.H. Scullard]], \\'\\'Festivals and Ceremonies of the Roman Republic\\'\\' (Cornell University Press, 1981), p. 51.</ref> \\n\\nTraditionally, the original [[Roman calendar]] consisted of 10 months totaling 304 days, winter being considered a month-less period. Around 713 BC, the semi-mythical successor of [[Romulus]], King [[Numa Pompilius]], is supposed to have added the months of January and [[February]], so that the calendar covered a standard lunar year (354 days). Although [[March]] was originally the first month in the old Roman calendar, January became the first month of the calendar year either under Numa or under the [[Decemvirs]] about 450&nbsp;BC (Roman writers differ). In contrast, each specific calendar year was identified by the names of the two [[consul]]s, who entered office on May 1{{citation needed|date=January 2016}} or March 15 until 153&nbsp;BC, from when they entered office on January 1.\\n\\nVarious Christian feast dates were used for the [[New Year]] in Europe during the [[Middle Ages]], including March 25 ([[Feast of the Annunciation]]) and December 25. However, medieval calendars were still displayed in the Roman fashion with twelve columns from January to December. Beginning in the 16th century, European countries began officially making January 1 the start of the New Year once again—sometimes called \\'\\'Circumcision Style\\'\\' because this was the date of the [[Feast of the Circumcision]], being the seventh day after December 25.\\n\\nHistorical names for January include its original Roman designation, Ianuarius, the [[Saxon people|Saxon]] term \\'\\'Wulf-monath\\'\\' (meaning \"wolf month\") and [[Charlemagne]]\\'s designation Wintarmanoth (\"winter / cold month\"). In [[Slovene language|Slovene]], it is traditionally called \\'\\'január\\'\\'. The name, associated with [[millet]] bread and the act of asking for something, was first written in 1466 in the [[Škofja Loka]] manuscript.<ref>{{cite journal |url=http://www.dlib.si/details/URN:NBN:SI:DOC-93FLIZJH/ |title=Ob petstoletnici škofjeloškega zapisa slovenskih imen za mesece |language=Slovenian |trans_title=On the 500th Anniversary of the Škofja Loka Recording of Slovene Month Names |first=Jože |last=Stabej |journal=Loški razgledi |year=1966 |volume=13 |publisher=Muzejsko društvo Škofja Loka [Museum Society of Škofja Loka] |issn=0459-8210}}</ref>\\n\\nAccording to [[Theodor Mommsen]],<ref>\\'\\'The History of Rome\\'\\', volume 4, The Revolution, ISBN 1-4353-4597-5, page 4</ref> 1 January became the first day of the year in 600 [[Ab urbe condita|AUC]] of the Roman calendar (153&nbsp;BC), due to disasters in the [[Lusitanian War]]. A Lusitanian chief called Punicus invaded the Roman territory, defeated two Roman governors, and killed their troops. The Romans resolved to send a consul to [[Hispania]], and in order to accelerate the dispatch of aid, \"they even made the new consuls enter into office two months and a half before the legal time\" (March 15).\\n\\n==January symbols==\\n[[File:Sneeuw1.jpg|thumb|Snow in [[Northern Hemisphere]] in the month of January]]\\n*January\\'s birthstone is the [[garnet]], which represents constancy.\\n*Its birth flower is the cottage pink \\'\\'[[Dianthus caryophyllus]]\\'\\' or [[galanthus]].<ref>{{cite web|url=http://www.birthflowersguide.com/january-birth-flower.html|title=January Birth Flower : Flower Meaning|work=birthflowersguide.com}}</ref>\\n*The Chinese floral emblem of January is the \\'\\'[[Prunus mume]]\\'\\'.{{Citation needed|date=March 2008}}\\n*The Japanese floral emblem of January is the [[camellia]] (\\'\\'[[Camellia sinensis]]\\'\\').{{Citation needed|date=March 2008}}\\n*In Finnish, the month of \\'\\'tammikuu\\'\\' means the heart of the winter and because the name literally means \"[[oak]] moon\", it can be inferred that the oak tree is the heart of the grand forest with many valuable trees as opposed to the typical Arctic forests, which are typically pine and spruce. The photograph of a large tree covered with ice against a blue sky is a familiar scene during Finland\\'s winter.\\n*The [[zodiac]] signs for the month of January are [[Capricorn (astrology)|Capricorn]] (until January 19) and [[Aquarius (astrology)|Aquarius]] (January 20 onwards).\\n\\n==Month-long observances==\\n[[File:Januar Leandro Bassano.jpg|thumb|\\'\\'January\\'\\', painting by [[Leandro Bassano]]]]\\n*[[Alzheimer Society of Canada|Alzheimer\\'s Awareness Month]] ([[Canada]]) \\n*[[Dry January]] ([[United Kingdom]]) \\n*National Codependency Awareness Month <ref>{{cite web|url=http://dianejellen.com/national-codependency-awareness-month|title=January National Codependency Awareness Month|work=Diane Jellen}}</ref> ([[United States]])\\n*[[National Mentoring Month]] ([[United States]])\\n*National Healthy Weight Awareness Month <ref>{{cite web|url=http://ccmis.usphs.gov/ccbulletin/articles/Healthy_Weight_01_2011.aspx|title=January is National Healthy Weight Awareness Month :  Importance of Physical Fitness|work=usphs.gov}}</ref> ([[United States]])\\n*[[Blue_Heart_Campaign#National_Slavery_and_Human_Trafficking_Prevention_Month|Slavery and Human Trafficking Prevention Month]] ([[United States]])\\n*Stalking Awareness Month <ref>{{cite web|url=http://www.whitehouse.gov/the-press-office/2010/12/21/presidential-proclamation-stalking-awareness-month|title=Presidential Proclamation--Stalking Awareness Month|work=whitehouse.gov}}</ref> ([[United States]])\\n\\n===Food months in the United States===\\n\\'\\'This list does not necessarily imply either official status or general observance.\\'\\'\\n* Be Kind to Food Servers Month (by proclamation, [[State of Tennessee]])<ref name=\"chases-2013\">{{cite book |url = https://books.google.com/books?id=a37rctucZkUC&printsec=frontcover&hl=en&sa=X&ei=meeaUPmwK8Gl0QWu9YCIBg&redir_esc=y#v=onepage&q&f=false |title = Chase\\'s Calendar of Events 2013 |isbn = 9780071813334 |publisher = [[The McGraw-Hill Companies]] |year = 2013 }}</ref>\\n* California [[Prune|Dried Plum]] Digestive Health Month<ref>{{cite web | url = http://gov.ca.gov/news.php?id=11139 | title = JANUARY 2009, AS \"CALIFORNIA DRIED PLUM DIGESTIVE HEALTH MONTH\" | publisher = Office of the Governor, [[California|State of California]] | date = November 20, 2008}}</ref> \\n* Hot Tea Month<ref name=\"ap-2004\">{{cite web | url = https://news.google.com/newspapers?id=7_0rAAAAIBAJ&sjid=P20FAAAAIBAJ&pg=1774%2C4224644 | title = Food turns eating into stream of holidays | first = J. M. | last = Hirsch | date = August 18, 2004 | publisher = [[Associated Press]] via [[Kentucky New Era]]}}</ref>\\n* National Soup Month<ref name=\"sjr-2010\">{{cite web |url = http://www.sj-r.com/features/x324655043/Kathryn-Rem-Yesterday-was-National-Crabmeat-Day-and-you-missed-it |title = Yesterday was National Crabmeat Day and you missed it |first = Kathryn |last = Rem |work = [[The State Journal-Register]] |date = March 9, 2010 }}</ref>\\n* Oatmeal Month<ref name=\"chases-2013\" /><ref name=\"Gavilan-2006\">{{cite web | url = http://www.gainesville.com/article/20060207/DAYBREAK/60206034 | title = Mark your calendar | date = February 7, 2006 | first = Jessica | last = Gavilan | publisher = [[The Gainesville Sun]]}}</ref>\\n\\n==Non-Gregorian observances, 2017==\\n\\'\\'This list does not necessarily imply either official status or general observance. All Jewish observances begin on sundown of the day before the date listed and end on sundown of the day listed.\\'\\'\\n*January 8: [[Tenth of Tevet]] ([[Judaism]], [[Hebrew calendar]])\\n*January 11-13: [[Lenaia]] ([[Attic calendar]], modern [[Hellenism]])<ref>http://www.hellenion.org/calendar/2017/2017HellenionCalendar.html</ref>  \\n*January 14: [[Maghe Sankranti]] ([[Vikram Samvat]], Nepali Hindus)<ref>http://nepalicalendar.rat32.com/index.php?year=2073&month=Magh&dowhat=nepali-calendar-horoscope-game-download-unicode-new-year-mobile-calendar&view=a8abb4bb284b5b27aa7cb790dc20f80b</ref>  \\n*January 18: [[Bahá\\'í calendar|Feast of Sultan/Sovereignty]] [[Bahá\\'í calendar]]<ref>http://bahaiblog.net/site/bahai-calendar/</ref>\\n*January 26: [[Yom Kippur Katan]] ([[Judaism]], [[Hebrew calendar]], optional observance)\\n*January 28: [[Chinese New Year]] ([[Chinese calendar]]) \\n*January 28: [[Hecate#The_Deipnon|Hecate\\'s Deipnon]] ([[Attic calendar]], modern [[Hellenism]])<ref>http://www.hellenion.org/calendar/2017/2017HellenionCalendar.html</ref>  \\n*January 28: [[Korean New Year]] ([[Korean calendar]])\\n*January 29: [[Noumenia]] ([[Attic calendar]], modern [[Hellenism]])<ref>http://www.hellenion.org/calendar/2017/2017HellenionCalendar.html</ref>  \\n*January 29: [[Rosh Chodesh]] of [[Shevat]] ([[Judaism]], [[Hebrew calendar]])\\n*January 29: [[Shia days of remembrance|Shia day of Remembrance: Death of Harun Rashid]] ([[Islamic calendar]])\\n\\n==Movable observances, 2017 dates==\\n\\'\\'This list does not necessarily imply either official status or general observance.\\'\\'\\n\\'\\'\\'Sunday after Christmas: January 1\\'\\'\\n*[[Christmas Sunday]] ([[Western Christianity]])\\n\\'\\'\\'First Monday: January 2\\'\\'\\'\\n*[[Handsel Monday]] ([[Scotland]] and [[Northern England]])\\n\\'\\'\\'First Sunday of the year, unless the Sunday falls on January 1, 6, or 7, then January 2: January 2\\'\\'\\'\\n*[[Feast of the Holy Name of Jesus]] ([[Roman Catholicism]], removed post-1969, still celebrated by some denominations) )\\n\\'\\'\\'January 2 unless that day is a Sunday, in which case [[January 3]]: January 2\\'\\'\\' \\n*[[New Year Holiday (Scotland)]]]\\n\\'\\'\\'First Friday: January 6\\'\\'\\' \\n*[[Children\\'s Day]] ([[Bahamas]])\\n\\'\\'\\'Sunday following January 6: January 8\\'\\'\\'\\n*[[Baptism of the Lord]] ([[Roman Catholicism]], [[Anglicanism]], [[Lutheranism]])\\n*[[Plough Sunday]] ([[England]])\\n\\'\\'\\'Monday after January 6: January 9\\'\\'\\'\\n*[[Baptism of the Lord]] – ([[Western Christianity]] in countries where [[Epiphany (holiday)|Epiphany]] is celebrated on January 7 or 8)\\n*[[Plough Monday]] ([[England]])\\n\\'\\'\\'Second Monday: January 9\\'\\'\\'\\n*[[Public_holidays_in_Puerto_Rico#Official_public_holidays|Birthday of Eugenio María de Hostos]] ([[Puerto Rico]], [[United States]])\\n*[[Coming of Age Day]] ([[Japan]])\\n\\'\\'\\'13th of the month falling on a Friday: January 13\\'\\'\\'\\n*[[Friday the 13th]]\\n\\'\\'\\'Friday before third Monday: January 13\\'\\'\\'\\n*[[Lee–Jackson Day]] ([[Virginia]], [[United States]])\\n\\'\\'\\'Second Saturday: January 14\\'\\'\\'\\n*[[Children\\'s Day]] ([[Thailand]])\\n\\'\\'\\'Third Sunday: January 15\\'\\'\\'\\n*[[National Sanctity of Human Life Day]] ([[United States]])\\n*[[Sinulog]] ([[Philippines]], [[Roman Catholic]]) \\n*[[World Religion Day]]\\n\\'\\'\\'Third full week of January: January 15-21 \\'\\'\\'\\n*[[Hunt for Happiness Week]] ([[International observance]])\\n*[[National Non-Smoking Week]] ([[Canada]])\\n\\'\\'\\'Third Monday: January 16 \\'\\'\\'\\n*[[Martin Luther King, Jr. Day]] ([[United States]])\\n**[[Idaho Human Rights Day]] ([[Idaho]], [[United States]])\\n\\'\\'\\'Wednesday of the third full week of January: January 18\\'\\'\\'\\n*[[National Non-Smoking Week|Weedless Wednesday]] ([[Canada]])\\n\\'\\'\\'Friday between January 19–25: January 20\\'\\'\\'\\n*[[Bóndadagur|Husband\\'s Day]] ([[Iceland]])\\n\\'\\'\\'Third Friday: January 20 \\'\\'\\'\\n*[[International Fetish Day]]\\n\\'\\'\\'Last week of January: January 22-28 \\'\\'\\'\\n*[[National School Choice Week]] ([[United States]])\\n\\'\\'\\'Fourth Monday: January 23 \\'\\'\\'\\n*[[Community Manager Appreciation Day]] ([[International observance]])\\n*[[Heroes\\' Day#Heroes.27 Day in Cayman Islands|National Heroes\\' Day]] ([[Cayman Islands]])\\n\\'\\'\\'Last Saturday: January 28\\'\\'\\'\\n*[[Seed swap|National Seed Swap Day]] ([[United States]])\\n\\'\\'\\'Last Sunday: January 29 \\'\\'\\'\\n*[[Holocaust Memorial Days|Liberation of Auschwitz Memorial Day]] ([[Netherlands]])\\n\\'\\'\\'January 30 or the nearest Sunday: January 29\\'\\'\\'\\n*[[World Leprosy Day]]\\n\\'\\'\\'First Week of February: January 29-February 4\\'\\'\\'\\n*[[Doppelganger Week]] ([[International observance]])\\n\\'\\'\\'Monday Closest to January 29: January 30\\'\\'\\'\\n*[[Auckland Anniversary Day]]\\n\\'\\'\\'Last Monday in January\\'\\'\\'\\n*[[Bubble wrap|Bubble Wrap Appreciation Day]]\\n\\n==Fixed observances==\\n\\'\\'This list does not necessarily imply either official status or general observance.\\'\\'\\n*December 25 - January 5: [[Twelve Days of Christmas]] ([[Western Christianity]])\\n*December 26-January 1: [[Kwanzaa]] ([[African Americans]])\\n*December 31-January 1, in some cases until January 2: [[Hogmanay]] ([[Scotland]])\\n*[[January 1]]\\n**[[Circumcision of Jesus|Feast of the Circumcision of Christ]] \\n***[[Feast of the Holy Name of Jesus]] ([[Anglican Communion]], [[Lutheran Church]])\\n***[[Feast of Fools]] ([[Medieval Europe]])\\n**[[Constitution Day (Italy)]]\\n**[[Dissolution of Czechoslovakia]]-related observances:\\n***[[Day of the Establishment of the Slovak Republic]] ([[Slovakia]])\\n***[[Restoration Day of the Independent Czech State]] ([[Czech Republic]])\\n**[[History of the euro|Euro Day]] ([[European Union]])\\n**[[Flag Day (Lithuania)]]\\n**[[Founding Day (Taiwan)]] \\n**[[Global Family Day]] \\n**[[List of national independence days|Independence Day]] ([[Brunei]], [[Cameroon]], [[Haiti]], [[Sudan]])\\n**[[International Nepali Dhoti and Nepali Topi Day]]\\n**[[Jump-up Day]] ([[Montserrat]], [[British Overseas Territories]])\\n**[[Kalpataru Day]] ([[Ramakrishna Movement]])\\n**[[List_of_food_days#January|National Bloody Mary Day]] ([[United States]])\\n**[[Arbor Day|National Tree Planting Day]] ([[Tanzania]])\\n**[[New Year\\'s Day]] \\n***[[Japanese New Year]] \\n***[[Novy God]] Day ([[Russia]])\\n***[[Okinawan festivals and observances|Sjoogwachi]] ([[Okinawa Islands]])\\n**[[Polar bear plunge|Polar Bear Swim Day]] ([[Canada]] and [[United States]])\\n**[[Public Domain Day]] (multiple countries)\\n**[[Solemnity of Mary, Mother of God]] ([[Catholic Church]])\\n***[[World Day of Peace]] \\n**[[Triumph of the Revolution]] ([[Cuba]])\\n*[[January 2]]\\n**[[Ancestry Day]] ([[Haiti]])\\n**[[Berchtoldstag|Berchtold\\'s Day]] ([[Liechtenstein]], [[Switzerland]], and the [[Alsace]])\\n**[[Carnival|Carnival Day]] ([[Saint Kitts and Nevis]])\\n**[[Thomas Roy#List of days|Happy Mew Year For Cats Day (Thomas Roy)]]\\n**[[Kakizome]] ([[Japan]])\\n**[[List of food days#January|National Creampuff Day]] ([[United States]])\\n**[[National Science Fiction Day]] ([[United States]])\\n**The second day of [[New Year]] (a holiday in [[Armenia]], [[Kazakhstan]], [[Republic of Macedonia|Macedonia]], [[Culture of Mauritius|Mauritius]], [[Montenegro]], [[Public holidays in New Zealand|New Zealand]], [[Romania]], [[Russia]], [[Switzerland]], and [[Ukraine]])\\n**[[Public holidays in Bhutan#Winter solstice|Nyinlong]] ([[Bhutan]])\\n**[[Victory of Armed Forces Day]] ([[Cuba]])\\n*[[January 3]]\\n**[[Public holidays in Burkina Faso|Anniversary of the 1966 Coup d’état]] ([[Burkina Faso]])\\n**[[Thomas Roy#List of days|Memento Mori]] ([[Thomas Roy]]) \\n**[[Public holidays in Armenia|Nakhatsenendyan toner]] ([[Armenia]]): January 3–5\\n**[[List of food days#January|National Chocolate Covered Cherry Day]] ([[United States]])\\n*[[January 4]]\\n**[[Day of the Fallen against the Colonial Repression]] ([[Angola]])\\n**[[Day of the Martyrs (Democratic Republic of the Congo)]]\\n**[[Thomas Roy#List of days|Dimpled Chad Day]] ([[Thomas Roy]]) \\n**[[Okinawan festivals and observances|Hwinukan mukee]] ([[Okinawa Islands]], [[Japan]])\\n**[[Independence Day (Myanmar)]]\\n**[[Movement for the Survival of the Ogoni People|Ogoni Day]] ([[Movement for the Survival of the Ogoni People]])\\n**[[World Health Observances|World Braille Day]]\\n*[[January 5]]\\n**[[National Bird Day (United States)]]\\n**[[List_of_food_days#January|National Whipped Cream Day]] ([[United States]])\\n**[[List_of_food_days#United_Kingdom|Sausage Day]] ([[United Kingdom]])\\n**[[List_of_food_days#Japan|Strawberry day]] ([[Japan]]) \\n**[[Take Our Daughters and Sons to Work Day]] ([[Sydney]], [[Melbourne]], and [[Brisbane]], [[Australia]])\\n**[[Serbian_Christmas_traditions#Pe.C4.8Denica|Tucindan]] ([[Serbia]], [[Montenegro]])\\n*[[January 6]]\\n**[[Armed Forces Day (Iraq)]]\\n**[[Epiphany (holiday)|Epiphany]] or Three Kings\\' Day ([[Western Christianity]]) or [[Theophany]] ([[Eastern Christianity]]), and its related observances:\\n***[[Befana Day]] ([[Italy]])\\n***[[Christmas#Using the Julian calendar|Christmas]] ([[Armenian Apostolic Church]])\\n***[[Christmas in Russia|Christmas Eve]] ([[Russia]])\\n***[[Christmas in Ukraine|Christmas Eve]] ([[Ukraine]])\\n***[[Public holidays in Bosnia and Herzegovina|Christmas Eve]] ([[Bosnia and Herzegovina]])\\n***[[Public holidays in Macedonia|Christmas Eve]] ([[Republic of Macedonia]])\\n***[[Little Christmas]] ([[Gaelic calendar|Ireland]])\\n***[[Þrettándinn]] ([[Iceland]])\\n***[[Biblical Magi#Traditions of the  Epiphany|Three Wise Men Day]]\\n**[[Pathet Lao Day]] ([[Laos]])\\n*[[January 7]]\\n**[[Christmas]] ([[Eastern Orthodox Churches]] and [[Oriental Orthodox Churches]] using the [[Julian Calendar]], [[Rastafari#Groundation|Rastafari]])\\n***[[Christmas in Russia]]\\n***[[Christmas in Ukraine]]\\n***[[Public holidays in Bosnia and Herzegovina|Christmas]] ([[Bosnia and Herzegovina]])\\n***[[Public holidays in Armenia|Remembrance Day of the Dead]] ([[Armenia]])\\n**[[Distaff Day]] ([[Medieval Europe]])\\n**[[Nanakusa no sekku]] ([[Japan]])\\n**[[Public holidays in Liberia|Pioneer\\'s Day]] ([[Liberia]])\\n**[[Flag of Italy|Tricolour day]] [[Italy]])\\n**[[Public holidays in Cambodia|Victory from Genocide Day]] ([[Cambodia]])\\n*[[January 8]]\\n**[[Babinden]] ([[Belarus]], [[Russia]])\\n**[[Commonwealth Day (disambiguation)|Commonwealth Day]] ([[Northern Mariana Islands]])\\n**[[Thomas Roy#List of days|Show and Tell Day at Work]] ([[Thomas Roy]])\\n**[[The Eighth (United States)]] (defunct observance)\\n**[[Typing Day]] ([[international observance]])\\n*[[January 9]]\\n**Start of [[Hōonkō|Hōonkō (Nishi Honganji)]] January 9–16  ([[Jōdo Shinshū]] [[Buddhism]])\\n**[[Martyrs\\' Day (Panama)]]\\n**[[List of food days#January|National Cassoulet Day]] ([[United States]])\\n**[[Non-Resident Indian Day]] ([[India]])\\n**[[Peace Agreement Day]] ([[South Sudan]])\\n**[[Republic Day]] ([[Republika Srpska]]) (defunct, declared unconstitutional by the [[Constitutional Court of Bosnia and Herzegovina]]<ref>{{cite web|title=The Constitutional Court of Bosnia and Herzegovina declared unconstitutional the day of RS|url=http://www.b92.net/info/vesti/index.php?yyyy=2015&mm=11&dd=26&nav_category=167&nav_id=1067794|website=b92.net|accessdate=9 January 2016}}</ref>)\\n**[[St. Stephen\\'s Day]] ([[Eastern Orthodox]])\\n*[[January 10]]\\n**[[Fête du Vodoun]] ([[Benin]])\\n**[[Public holidays in the Bahamas|Majority Rule Day]] ([[Bahamas]])\\n*[[January 11]]\\n**[[Children\\'s Day]] ([[Tunisia]]) \\n**[[Eugenio María de Hostos Day]] ([[Puerto Rico]])\\n**[[German Apples Day]] ([[Germany]])\\n**[[Public holidays in Morocco|Independence Manifesto Day]] ([[Morocco]])\\n**[[Kagami biraki]] ([[Japan]])\\n**[[List of awareness days#January|National Human Trafficking Awareness Day]] ([[United States]])\\n**[[Republic Day (Albania)]]\\n*[[January 12]]\\n**[[Memorial Day (Turkmenistan)]]\\n**[[International Duties Memorial Day|Prosecutor General\\'s Day]] ([[Russia]])\\n**[[National Youth Day (India)]]\\n**[[Zanzibar Revolution Day]] ([[Tanzania]])\\n*[[January 13]]\\n**[[Constitution Day]] ([[Mongolia]]) \\n**[[Democracy Day (Cape Verde)]]\\n**[[Southern California Korean College Students Association#Korean-American Day Seminar|Korean-American Day]] ([[Korean-American]] community, [[United States]])\\n**[[Liberation Day (Togo)]]\\n**[[Old New Year]]\\'s Eve ([[Russia]], [[Belarus]], [[Ukraine]], [[Serbia]], [[Montenegro]], [[Republic of Srpska]], [[Republic of Macedonia]]), and its related observances:\\n***[[Malanka]] ([[Ukraine]], [[Russia]], [[Belarus]])\\n**[[St. Knut\\'s Day]] ([[Sweden]] and [[Finland]])\\n**[[Stephen Foster Memorial Day]] ([[United States]])\\n*[[January 14]]\\n**[[Azhyrnykhua]] (Abkhazia)\\n**[[Public holidays in Uzbekistan|Day of Defenders of the Motherland]] ([[Uzbekistan]]) \\n**[[Feast of Divina Pastora]] ([[Barquisimeto]])\\n**[[Feast of the Ass]] ([[Medieval Christianity]])\\n**[[Flag Day (Georgia)]] \\n**[[National Forest Conservation Day]] ([[Thailand]])\\n**[[Ratification Day (United States)]]\\n**[[Public holidays in Tunisia|Revolution and Youth Day]] (Tunisia)\\n**[[Yennayer]] ([[Berbers]])\\n*[[January 15]]\\n**[[Arbor Day (Egypt)]]\\n**[[Armed Forces Day (Nigeria)]]\\n**[[Indian Army Day]] (India)\\n**[[John Chilembwe Day]] (Malawi)\\n**[[Korean Alphabet Day]] (North Korea)\\n**[[Sagichō]] at [[Tsurugaoka Hachimangū]] ([[Kamakura]], Japan)\\n**[[Teacher\\'s Day (Venezuela)]]\\n**[[List of unofficial observances by date|Wikipedia Day]] ([[international observance]])\\n*[[January 16]]\\n**[[National Nothing Day]] ([[Thomas Roy]])\\n**[[National Religious Freedom Day]] ([[United States]])\\n**[[Solemnity of Mary, Mother of God]] ([[Coptic Church]])\\n**[[Teacher\\'s Day (Myanmar)]]\\n**[[Teachers\\' Day (Thailand)]]\\n**[[Okinawan festivals and observances|Zuuruku Nichi]] ([[Okinawa Islands]], [[Japan]])\\n**[[Thiruvalluvar#Memorials|Thiruvalluvar Day]] ([[Tamil Nadu]], India)\\n*[[January 17]]\\n**[[Hardware Freedom Day]] ([[international observance]])\\n**[[Thomas Roy#List of days|Judgement Day]]\\n**[[Minorca#Vandals and Moors|National Day]] ([[Minorca]])\\n**The opening ceremony of [[Patras Carnival]], celebrated until [[Clean Monday]] ([[Patras]])\\n*[[January 18]]\\n**[[Public holidays in Tunisia|Revolution and Youth Day]] (Tunisia)\\n**[[Royal Thai Armed Forces Day]] (Thailand)\\n**[[Week of Prayer for Christian Unity]] (January 18–25) ([[Christianity]])\\n*[[January 19]]\\n**[[Confederate Memorial Day|Confederate Heroes Day]] ([[Texas]]), and its related observance:\\n***[[Robert E. Lee Day]] ([[Alabama]], [[Arkansas]], [[Florida]], [[Georgia (U.S. state)|Georgia]] and [[Mississippi]])\\n***[[Lee–Jackson–King Day]] ([[Virginia]], United States, defunct)\\n**[[Kokborok Day]] ([[Tripura]], India)\\n**[[List of food days#January|National Popcorn Day]] (United States)\\n**[[Theophany]] / [[Epiphany (holiday)|Epiphany]] ([[Eastern Orthodox Church|Eastern]] and [[Oriental Orthodoxy]]), and its related observances:\\n***[[Timkat]], (on 20th during Leap Year) ([[Ethiopian Orthodox]])\\n***\\'\\'[[Vodici]]\\'\\' or [[Baptism of Jesus]] (Republic of Macedonia)\\n*[[January 20]]\\n**[[Public holidays in Mali|Armed Forces Day]] (Mali)\\n**[[List of food days#January|Cheese Day]] (United States)\\n**[[Public holidays in Cape Verde|Heroes\\' Day]] (Cape Verde)\\n**[[Inauguration Day]], held every four years in odd-numbered years, except when January 20 falls on a Sunday (United States)\\n**[[Martyrs\\' Day (Azerbaijan)]]\\n*[[January 21]]\\n**[[Babinden]] (Bulgaria, Serbia)\\n**[[Flag flying days in Norway|Birthday of Princess Ingrid Alexandra]] (Norway) \\n**[[Errol Barrow Day]] (Barbados)\\n**[[Flag Day (Quebec)]]\\n**[[National Grandparents Day#Poland|Grandmother\\'s Day]] (Poland)\\n**[[Día de la Altagracia|Lady of Altagracia Day]] (Dominican Republic)\\n**[[National Hug Day]] (United States)\\n*[[January 22]]\\n**[[Thomas Roy#List of days|Answer Your Cat’s Question Day]]\\n**[[Act Zluky|Day of Unity of Ukraine]] (Ukraine)\\n**[[Public holidays in Poland|Grandfather\\'s Day]] (Poland)\\n**[[List of food days#January|National Hot Sauce Day]] (United States)\\n*[[January 23]]\\n**[[Bounty Day]] ([[Pitcairn Island]])\\n**[[Espousals of the Blessed Virgin Mary]] ([[Roman Catholic Church]])\\n**[[List of food days#Iran|National Pie Day]] (Iran)\\n**[[American Pie Council#National Pie Day|National Pie Day]] (United States)\\n**[[Public holidays in India#Secular holidays|Netaji Subhas Chandra Bose\\'s Jayanti]] ([[Orissa, India|Orissa]], [[Tripura]], and [[West Bengal]], India)\\n**[[Thomas Roy#List of days|Snow Plow Mailbox Hockey Day]]\\n**[[World Freedom Day]] (Taiwan and South Korea)\\n*[[January 24]]\\n**Feast of [[Our Lady of Peace]] ([[Roman Catholic Church]]), and its related observances:\\n***\\'\\'[[Feria de Alasitas]]\\'\\' ([[La Paz]])\\n**[[List of awareness days#January|Moebius Syndrome Awareness Day]] ([[international observance]])\\n**[[American Pie Council#National Pie Day|National Peanut Butter Day]] (United States)\\n**[[Sementivae]] (January 24–26) ([[Ancient Rome]])\\n**[[Public holidays in Romania|Unification Day]] (Romania)\\n*[[January 25]]\\n**[[Public holidays in Egypt|2011 Revolution Day]] (Egypt)\\n**[[Thomas Roy#List of days|A Room of One’s Own Day]]\\n**[[Burns night]] (Scotland, [[Scottish people|Scottish community]])\\n**[[Dydd Santes Dwynwen]] (Wales)\\n**[[Feast of the Conversion of Saint Paul]] ([[Eastern Orthodox Church|Eastern Orthodox]], [[Oriental Orthodox]], [[Roman Catholic]], [[Anglican]] and [[Lutheran]] churches, which concludes the [[Week of Prayer for Christian Unity]])\\n**[[National Police Day (Egypt)]]\\n**[[National Voters\\' Day]] (India)\\n**[[Tatiana Day]] (Russia, [[Eastern Orthodox]])\\n*[[January 26]]\\n**[[Australia Day]] (Australia) \\n**[[Juan Pablo Duarte|Duarte Day]] (Dominican Republic)\\n**[[Engineer\\'s Day]] (Panama) \\n**[[List of awareness days|International Customs Day]]\\n**[[Liberation Day]] (Uganda)\\n**[[Republic Day (India)]]\\n*[[January 27]]\\n**[[Days of Military Honour|Day of the lifting of the siege of Leningrad]] (Russia)\\n**[[Auschwitz concentration camp|Liberation of the remaining inmates of Auschwitz]]-related observances:\\n***[[Holocaust Memorial Day (UK)]]\\n***[[Holocaust Memorial Days|Holocaust Remembrance Day]] (Sweden)\\n***[[International Holocaust Remembrance Day]] \\n***[[Memorial Day (Italy)]]\\n***[[Holocaust Memorial Days|Memorial Day for the Victims of the Holocaust and Prevention of Crimes against Humanity]] (Czech Republic)\\n***[[Holocaust Memorial Days|Memorial Day for the Victims of National Socialism]] (Germany)\\n***[[Holocaust Memorial Days|National Holocaust Memorial Day]] (Greece)\\n**[[List of awareness days#January|Family Literacy Day]] (Canada)\\n**[[Public holidays in Serbia|Feast of Saint Slava]] (Serbia)\\n**[[List of food days#January|National Chocolate Cake Day]] (United States)\\n**[[Public holidays in Monaco|Saint Devota\\'s Day]] (Monaco)\\n*[[January 28]]\\n**[[Public holidays in Armenia|Army Day]] (Armenia)\\n**[[Data Privacy Day]] ([[international observance]])\\n*[[January 29]]\\n**[[Kansas Day]] ([[Kansas]], United States)\\n*[[January 30]]\\n**[[Public holidays in Azerbaijan|Day of Azerbaijani customs]] (Azerbaijan)\\n**[[Saudade|Day of \\'\\'Saudade\\'\\']] (Brazil)\\n**[[Fred Korematsu Day]] ([[California]], United States)\\n**Martyrdom of [[Mahatma Gandhi]]-related observances:\\n***[[Martyrs\\' Day (India)]]\\n***[[School Day of Non-violence and Peace]] (Spain)\\n***Start of the [[Season for Nonviolence]] January 30-April 4\\n**[[Thomas Roy#List of days|National Inane Answering Message Day]] (United States)\\n**[[Teacher\\'s Day]] (Greece)\\n*[[January 31]]\\n**[[Amartithi]] ([[Meherabad]], India, followers of [[Meher Baba]])\\n**[[Independence Day (Nauru)]]\\n**[[Jugend Eine Welt|Street Children\\'s Day]] (Austria)\\n\\n==References==\\n{{reflist}}\\n{{Commons category}}\\n{{wikiquote}}\\n{{wiktionary}}\\n{{Wikivoyage}}\\n\\n{{Clear}}\\n{{months}}\\n\\n{{Authority control}}\\n\\n[[Category:Months| 01]]\\n[[Category:January| ]]'"
      ]
     },
     "execution_count": 270,
     "metadata": {},
     "output_type": "execute_result"
    }
   ],
   "source": [
    "text"
   ]
  },
  {
   "cell_type": "code",
   "execution_count": 302,
   "metadata": {
    "collapsed": false
   },
   "outputs": [],
   "source": [
    "def process_page(elem):\n",
    "    full_annotator_list = [\"ssplit\"]\n",
    "    cn = pywrap.CoreNLP(url='http://172.17.0.4:9000', annotator_list = full_annotator_list)\n",
    "    text = elem.findall(\".//revision/text\")[0].text\n",
    "    title = elem.findall(\".//title\")[0].text\n",
    "    if text.startswith(\"#REDIRECT\") or text.startswith('#redirect'):\n",
    "        return\n",
    "    paras = filter(lambda x: len(x) > 25, map(text_only, re.split(r'==.*?==|\\n[\\n]+', text)))\n",
    "    doc = {}\n",
    "    doc['title'] = title\n",
    "    doc['paras'] = []\n",
    "    for para in paras:\n",
    "        para = para.encode('latin-1', 'backslashreplace').decode('latin-1')\n",
    "        if re.match(r'[\\S]+', para):\n",
    "            sentences = None\n",
    "            while not sentences:\n",
    "                try:    \n",
    "                    sentences = cn.basic(para).json()['sentences']\n",
    "                except Exception as e:\n",
    "                    print(e)\n",
    "                    if e != \"Check your CoreNLP Server status \\n if not sure, Check the pywrap doc for Server instantiation\":\n",
    "                        print(\"error \\n\\n\\n\\ \", e)\n",
    "                        return\n",
    "            endOfLast = 0 \n",
    "            doc['paras'].append([])\n",
    "            for sent in sentences:\n",
    "                last_word = sent['tokens'][-1]\n",
    "                sentence_text = para[endOfLast:last_word['characterOffsetEnd']]\n",
    "                endOfLast = last_word['characterOffsetEnd']\n",
    "                tokens = list(map(lambda x: x['word'], sent['tokens']))\n",
    "                doc['paras'][-1].append({'text': sentence_text, 'tokens': tokens})        \n",
    "    if doc['paras']:\n",
    "        return doc\n"
   ]
  },
  {
   "cell_type": "code",
   "execution_count": 305,
   "metadata": {
    "collapsed": false,
    "scrolled": false
   },
   "outputs": [
    {
     "data": {
      "text/plain": [
       "[{'text': 'Ancient Roman observances during this month include Cervula, and Juvenalia; celebrated January 1, as well as one of three  Agonalia, celebrated January 9, and Carmentalia, celebrated January 11.',\n",
       "  'tokens': ['Ancient',\n",
       "   'Roman',\n",
       "   'observances',\n",
       "   'during',\n",
       "   'this',\n",
       "   'month',\n",
       "   'include',\n",
       "   'Cervula',\n",
       "   ',',\n",
       "   'and',\n",
       "   'Juvenalia',\n",
       "   ';',\n",
       "   'celebrated',\n",
       "   'January',\n",
       "   '1',\n",
       "   ',',\n",
       "   'as',\n",
       "   'well',\n",
       "   'as',\n",
       "   'one',\n",
       "   'of',\n",
       "   'three',\n",
       "   'Agonalia',\n",
       "   ',',\n",
       "   'celebrated',\n",
       "   'January',\n",
       "   '9',\n",
       "   ',',\n",
       "   'and',\n",
       "   'Carmentalia',\n",
       "   ',',\n",
       "   'celebrated',\n",
       "   'January',\n",
       "   '11',\n",
       "   '.']},\n",
       " {'text': ' These dates do not correspond to the modern Gregorian calendar.',\n",
       "  'tokens': ['These',\n",
       "   'dates',\n",
       "   'do',\n",
       "   'not',\n",
       "   'correspond',\n",
       "   'to',\n",
       "   'the',\n",
       "   'modern',\n",
       "   'Gregorian',\n",
       "   'calendar',\n",
       "   '.']}]"
      ]
     },
     "execution_count": 305,
     "metadata": {},
     "output_type": "execute_result"
    }
   ],
   "source": [
    "process_page(elem)['paras'][0]"
   ]
  },
  {
   "cell_type": "code",
   "execution_count": 307,
   "metadata": {
    "collapsed": false
   },
   "outputs": [],
   "source": [
    "from time import sleep\n",
    "sleep(1)"
   ]
  },
  {
   "cell_type": "code",
   "execution_count": 315,
   "metadata": {
    "collapsed": false
   },
   "outputs": [
    {
     "ename": "ImportError",
     "evalue": "No module named 'JSONDecodeError'",
     "output_type": "error",
     "traceback": [
      "\u001b[0;31m---------------------------------------------------------------------------\u001b[0m",
      "\u001b[0;31mImportError\u001b[0m                               Traceback (most recent call last)",
      "\u001b[0;32m<ipython-input-315-aa49f9ca894f>\u001b[0m in \u001b[0;36m<module>\u001b[0;34m()\u001b[0m\n\u001b[0;32m----> 1\u001b[0;31m \u001b[0;32mimport\u001b[0m \u001b[0mJSONDecodeError\u001b[0m\u001b[0;34m\u001b[0m\u001b[0m\n\u001b[0m",
      "\u001b[0;31mImportError\u001b[0m: No module named 'JSONDecodeError'"
     ]
    }
   ],
   "source": []
  },
  {
   "cell_type": "code",
   "execution_count": null,
   "metadata": {
    "collapsed": true
   },
   "outputs": [],
   "source": []
  }
 ],
 "metadata": {
  "kernelspec": {
   "display_name": "Python 3",
   "language": "python",
   "name": "python3"
  },
  "language_info": {
   "codemirror_mode": {
    "name": "ipython",
    "version": 3
   },
   "file_extension": ".py",
   "mimetype": "text/x-python",
   "name": "python",
   "nbconvert_exporter": "python",
   "pygments_lexer": "ipython3",
   "version": "3.4.3"
  }
 },
 "nbformat": 4,
 "nbformat_minor": 2
}
