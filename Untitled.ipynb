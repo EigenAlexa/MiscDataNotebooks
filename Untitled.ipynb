{
 "cells": [
  {
   "cell_type": "code",
   "execution_count": 2,
   "metadata": {
    "collapsed": false
   },
   "outputs": [
    {
     "name": "stdout",
     "output_type": "stream",
     "text": [
      "\u001b[33mThe directory '/root/.cache/pip/http' or its parent directory is not owned by the current user and the cache has been disabled. Please check the permissions and owner of that directory. If executing pip with sudo, you may want sudo's -H flag.\u001b[0m\n",
      "\u001b[33mThe directory '/root/.cache/pip' or its parent directory is not owned by the current user and caching wheels has been disabled. check the permissions and owner of that directory. If executing pip with sudo, you may want sudo's -H flag.\u001b[0m\n",
      "Collecting nltk\n",
      "  Downloading nltk-3.2.2.tar.gz (1.2MB)\n",
      "\u001b[K    100% |################################| 1.2MB 830kB/s eta 0:00:01\n",
      "\u001b[?25hRequirement already satisfied: six in /usr/local/lib/python3.4/dist-packages (from nltk)\n",
      "Installing collected packages: nltk\n",
      "  Running setup.py install for nltk ... \u001b[?25l-\b \b\\\b \b|\b \b/\b \b-\b \b\\\b \b|\b \bdone\n",
      "\u001b[?25hSuccessfully installed nltk-3.2.2\n"
     ]
    }
   ],
   "source": [
    "!pip install nltk"
   ]
  },
  {
   "cell_type": "code",
   "execution_count": 3,
   "metadata": {
    "collapsed": true
   },
   "outputs": [],
   "source": [
    "import nltk"
   ]
  },
  {
   "cell_type": "code",
   "execution_count": 4,
   "metadata": {
    "collapsed": false
   },
   "outputs": [
    {
     "name": "stdout",
     "output_type": "stream",
     "text": [
      "NLTK Downloader\n",
      "---------------------------------------------------------------------------\n",
      "    d) Download   l) List    u) Update   c) Config   h) Help   q) Quit\n",
      "---------------------------------------------------------------------------\n",
      "Downloader> d\n",
      "\n",
      "Download which package (l=list; x=cancel)?\n",
      "  Identifier> nps_chat\n",
      "    Downloading package nps_chat to /root/nltk_data...\n",
      "      Unzipping corpora/nps_chat.zip.\n",
      "\n",
      "---------------------------------------------------------------------------\n",
      "    d) Download   l) List    u) Update   c) Config   h) Help   q) Quit\n",
      "---------------------------------------------------------------------------\n",
      "Downloader> q\n"
     ]
    },
    {
     "data": {
      "text/plain": [
       "True"
      ]
     },
     "execution_count": 4,
     "metadata": {},
     "output_type": "execute_result"
    }
   ],
   "source": [
    "nltk.download()"
   ]
  },
  {
   "cell_type": "code",
   "execution_count": 22,
   "metadata": {
    "collapsed": false
   },
   "outputs": [
    {
     "data": {
      "text/plain": [
       "[['now', 'im', 'left', 'with', 'this', 'gay', 'name'],\n",
       " [':P'],\n",
       " ['PART'],\n",
       " ['hey', 'everyone'],\n",
       " ['ah', 'well'],\n",
       " ['NICK', ':', 'U7'],\n",
       " ['U7', 'is', 'a', 'gay', 'name', '.'],\n",
       " ['.', 'ACTION', 'gives', 'U121', 'a', 'golf', 'clap', '.'],\n",
       " [':)'],\n",
       " ['JOIN'],\n",
       " ['hi', 'U59'],\n",
       " ['26',\n",
       "  '/',\n",
       "  'm',\n",
       "  '/',\n",
       "  'ky',\n",
       "  'women',\n",
       "  'that',\n",
       "  'are',\n",
       "  'nice',\n",
       "  'please',\n",
       "  'pm',\n",
       "  'me'],\n",
       " ['JOIN'],\n",
       " ['PART'],\n",
       " ['there', 'ya', 'go', 'U7'],\n",
       " ['do', \"n't\", 'golf', 'clap', 'me', '.'],\n",
       " ['fuck', 'you', 'U121', ':@'],\n",
       " ['whats', 'everyone', 'up', 'to', '?'],\n",
       " ['PART'],\n",
       " ['PART'],\n",
       " ['i', \"'ll\", 'thunder', 'clap', 'your', 'ass', '.'],\n",
       " ['PART'],\n",
       " ['and', 'i', 'dont', 'even', 'know', 'what', 'that', 'means', '.'],\n",
       " ['that', 'sounds', 'painful'],\n",
       " ['any', 'ladis', 'wanna', 'chat', '?', '29', 'm'],\n",
       " ['26', '/', 'm'],\n",
       " ['JOIN'],\n",
       " ['my', 'cousin', 'drew', 'a', 'messed', 'up', 'pic', 'on', 'my', 'cast'],\n",
       " ['PART'],\n",
       " ['24', '/', 'm'],\n",
       " ['boo', '.'],\n",
       " ['26', '/', 'm', 'and', 'sexy'],\n",
       " ['lol', 'U115'],\n",
       " ['boo', '.'],\n",
       " ['JOIN'],\n",
       " ['PART'],\n",
       " ['he', 'drew', 'a', 'girl', 'with', 'legs', 'spread'],\n",
       " ['boo', '.'],\n",
       " ['hope', 'he', 'didnt', 'draw', 'a', 'penis'],\n",
       " ['PART'],\n",
       " ['ewwwww', 'lol'],\n",
       " ['&', 'a', 'head', 'between', 'her', 'legs'],\n",
       " ['JOIN'],\n",
       " ['JOIN'],\n",
       " ['sounds', 'good', 'to', 'me', '.'],\n",
       " ['r', 'u', 'serious'],\n",
       " ['JOIN'],\n",
       " ['PART'],\n",
       " ['I', \"'ll\", 'take', 'one', ',', 'please', '.'],\n",
       " ['&', 'i', 'have', 'to', 'go', 'to', 'the', 'docs', 'tomorrow']]"
      ]
     },
     "execution_count": 22,
     "metadata": {},
     "output_type": "execute_result"
    }
   ],
   "source": [
    "reader = nltk.corpus.nps_chat"
   ]
  },
  {
   "cell_type": "code",
   "execution_count": 11,
   "metadata": {
    "collapsed": false
   },
   "outputs": [],
   "source": [
    "posts = reader.xml_posts()"
   ]
  },
  {
   "cell_type": "code",
   "execution_count": 21,
   "metadata": {
    "collapsed": false
   },
   "outputs": [
    {
     "data": {
      "text/plain": [
       "{'class': 'Statement', 'user': '11-09-teensUser113'}"
      ]
     },
     "execution_count": 21,
     "metadata": {},
     "output_type": "execute_result"
    }
   ],
   "source": [
    "posts[10000].attrib"
   ]
  },
  {
   "cell_type": "code",
   "execution_count": null,
   "metadata": {
    "collapsed": true
   },
   "outputs": [],
   "source": [
    "documents = []\n",
    "for i in range(len(posts) // 50):\n",
    "    document = {}\n",
    "    document['convo'] = []\n",
    "    turns = []\n",
    "    lastCaller = None\n",
    "    for post in posts[i*50: (i+1)*50]:\n",
    "        "
   ]
  }
 ],
 "metadata": {
  "kernelspec": {
   "display_name": "Python 3",
   "language": "python",
   "name": "python3"
  },
  "language_info": {
   "codemirror_mode": {
    "name": "ipython",
    "version": 3
   },
   "file_extension": ".py",
   "mimetype": "text/x-python",
   "name": "python",
   "nbconvert_exporter": "python",
   "pygments_lexer": "ipython3",
   "version": "3.4.3"
  }
 },
 "nbformat": 4,
 "nbformat_minor": 2
}
