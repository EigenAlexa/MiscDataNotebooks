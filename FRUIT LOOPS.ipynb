{
 "cells": [
  {
   "cell_type": "code",
   "execution_count": 1,
   "metadata": {
    "collapsed": true
   },
   "outputs": [],
   "source": [
    "from pymongo import MongoClient"
   ]
  },
  {
   "cell_type": "code",
   "execution_count": 2,
   "metadata": {
    "collapsed": true
   },
   "outputs": [],
   "source": [
    "c = MongoClient('10.0.1.40')"
   ]
  },
  {
   "cell_type": "code",
   "execution_count": 3,
   "metadata": {
    "collapsed": false
   },
   "outputs": [],
   "source": [
    "cur = c['corpora']['cnn'].find()\n",
    "cur.next()\n",
    "doc = cur.next()"
   ]
  },
  {
   "cell_type": "code",
   "execution_count": 4,
   "metadata": {
    "collapsed": false
   },
   "outputs": [
    {
     "data": {
      "text/plain": [
       "\"Senate Set for Nail-Biter Vote; Controversy Over Andy Puzder; Iran Reacts to Trump's Russia Comment; Al Qaeda Leader Comments on Trump; Pence Casts Tiebreaking Vote. Aired 12-12:30p ET\""
      ]
     },
     "execution_count": 4,
     "metadata": {},
     "output_type": "execute_result"
    }
   ],
   "source": [
    "doc['header']"
   ]
  },
  {
   "cell_type": "code",
   "execution_count": 5,
   "metadata": {
    "collapsed": true
   },
   "outputs": [],
   "source": [
    "import re"
   ]
  },
  {
   "cell_type": "code",
   "execution_count": 6,
   "metadata": {
    "collapsed": false
   },
   "outputs": [],
   "source": [
    "video_splitted = re.split(r'(\\(BEGIN [A-Z ]*\\)|\\(END[A-Z ]*\\))', doc['text'])"
   ]
  },
  {
   "cell_type": "code",
   "execution_count": 7,
   "metadata": {
    "collapsed": true
   },
   "outputs": [],
   "source": [
    "video_clips = []\n",
    "normal_conv = [\"\"]\n",
    "i = 0\n",
    "while i < len(video_splitted):\n",
    "    if re.match(r'\\(BEGIN [A-Z ]*\\)', video_splitted[i]):\n",
    "        video_clips.append(video_splitted[i+1])\n",
    "        normal_conv.append(\"\")\n",
    "        i += 3\n",
    "    else:\n",
    "        normal_conv[-1] += video_splitted[i]\n",
    "        i += 1"
   ]
  },
  {
   "cell_type": "code",
   "execution_count": 8,
   "metadata": {
    "collapsed": false
   },
   "outputs": [
    {
     "data": {
      "text/plain": [
       "[\"\\n \\nDONALD TRUMP, PRESIDENT OF THE UNITED STATES: We\\\\'re going to take it through the system. It\\\\'s very important. It\\\\'s very important for the country, regardless of me or whoever succeeds at a later date. I mean we have to have security in our country. We have to have the ability. \\n \\nWhen you take someplace like Syria, you take all of the different people going around -- and if you remember, ISIS said, we are going to infiltrate the United States and other countries through the migration. And then we\\\\'re not allowed to be tough on the people coming in? Explain that one. \\n \\n\",\n",
       " \" \\n \\nSEN. TIM KAINE (D), VIRGINIA: If you cannot be a champion for public schools, you should not be secretary of education.\\n \\nSEN. KAMALA HARRIS (D), CALIFORNIA: It is clear from her testimony, Betsy DeVos has not done her homework. \\n \\nSEN. BRIAN SCHATZ (D), HAWAII: We have the wrong person who may be confirmed as the secretary of education. \\n \\nSEN. ELIZABETH WARREN (D), MASSACHUSETTS: We need just one more Republican to stand up for the children of America. \\n \\nSEN. CHUCK SCHUMER (D), MINORITY LEADER: There are certain issues that are too important that demand putting country above party. \\n \\nSEN. AL FRANKEN (D), MINNESOTA: The secretary of education has an enormous amount of power to shape our nation\\\\'s future. So this is not a job for amateurs. \\n \\nSEN. PATTY MURRAY (D), WASHINGTON: Let\\\\'s ask President Trump to send us someone who is qualified. \\n \\n\",\n",
       " '\\n \\nJOHN KELLY, HOMELAND SECURITY SECRETARY: In retrospect, I should have -- this is all on me, by the way -- I should have delayed it just a bit so that I could talk to members of Congress, particularly the leadership of committees like this, to prepare them for what was coming. \\n \\nThe desire was to get it out. The thinking was to get it out quick so that potentially people that might be coming here to harm us would not take advantage. \\n \\n',\n",
       " '\\n \\nBILL O\\\\\\'REILLY, HOST, \"THE O\\\\\\'REILLY FACTOR\": Putin\\\\\\'s a killer.\\n \\nDONALD TRUMP, PRESIDENT OF THE UNITED STATES: A lot of killers. We\\\\\\'ve got a lot of killers. What, you think our country\\\\\\'s so innocent? \\n \\n']"
      ]
     },
     "execution_count": 8,
     "metadata": {},
     "output_type": "execute_result"
    }
   ],
   "source": [
    "video_clips"
   ]
  },
  {
   "cell_type": "code",
   "execution_count": 9,
   "metadata": {
    "collapsed": false
   },
   "outputs": [],
   "source": [
    "documents = []\n",
    "def process_group(group):\n",
    "    doc = {}\n",
    "    doc['convo'] = []\n",
    "    turns = re.split(r'([\\n\\\\n]*[ A-Z,-,{(}{)}]+[:])', group)\n",
    "    i = 0\n",
    "    while i < len(turns):\n",
    "        if re.match(r'([\\n\\\\n]*[ A-Z,-,{(}{)}]+[:])', turns[i]):\n",
    "            speaker = clean_speaker(turns[i])\n",
    "            if speaker.upper() == speaker:\n",
    "                text = clean_text(turns[i+1])\n",
    "                if text:\n",
    "                    try:\n",
    "                        sentences = cn.basic(text).json()['sentences']\n",
    "                        endOfLast = 0\n",
    "                        for sent in sentences:\n",
    "                            last_word = sent['tokens'][-1]\n",
    "                            sentence_text = text[endOfLast:last_word['characterOffsetEnd']+2]\n",
    "                            endOfLast = last_word['characterOffsetEnd']+2\n",
    "                            tokens = list(map(lambda x: x['word'], sent['tokens']))\n",
    "                            doc['convo'].append({'speaker': speaker, 'text': sentence_text, 'tokens': tokens})\n",
    "                    except Exception as e:\n",
    "                        print(text)\n",
    "            else:\n",
    "                print(speaker)\n",
    "                print(i)\n",
    "            i += 2\n",
    "        else:\n",
    "            i += 1\n",
    "    return doc"
   ]
  },
  {
   "cell_type": "code",
   "execution_count": 10,
   "metadata": {
    "collapsed": false
   },
   "outputs": [],
   "source": [
    "def process_doc(raw_doc):\n",
    "    info = raw_doc['header']\n",
    "    topics = info.split(';')\n",
    "    topics[-1] = topics[-1].split(\"Aired\")[0]\n",
    "    show = raw_doc['show']\n",
    "    documents = []\n",
    "    video_splitted = re.split(r'(\\(BEGIN [A-Z ]*\\)|\\(END[A-Z ]*\\))', raw_doc['text'])\n",
    "    video_clips = []\n",
    "    normal_conv = [\"\"]\n",
    "    i = 0\n",
    "    while i < len(video_splitted):\n",
    "        if re.match(r'\\(BEGIN [A-Z ]*\\)', video_splitted[i]):\n",
    "            video_clips.append(video_splitted[i+1])\n",
    "            normal_conv.append(\"\")\n",
    "            i += 3\n",
    "        else:\n",
    "            normal_conv += video_splitted[i]\n",
    "            i += 1\n",
    "    for group in video_clips:\n",
    "        doc = process_group(group)\n",
    "        doc['topics'] = topics\n",
    "        doc['show'] = show\n",
    "        if len(doc['convo']) > 1:\n",
    "            documents.append(doc)\n",
    "    for group in normal_conv:\n",
    "        doc = process_group(group)\n",
    "        doc['topics'] = topics\n",
    "        doc['show'] = show\n",
    "        if len(doc['convo']) > 1:\n",
    "            documents.append(doc)\n",
    "    return documents"
   ]
  },
  {
   "cell_type": "code",
   "execution_count": 14,
   "metadata": {
    "collapsed": false
   },
   "outputs": [
    {
     "name": "stderr",
     "output_type": "stream",
     "text": [
      "  0%|          | 10/38000 [00:01<1:27:02,  7.27it/s]\n"
     ]
    }
   ],
   "source": [
    "from tqdm import tqdm\n",
    "documents = []\n",
    "for doc in tqdm(c['corpora']['cnn'].find().limit(10), total=38000):\n",
    "    documents.extend(process_doc(doc))"
   ]
  },
  {
   "cell_type": "code",
   "execution_count": 15,
   "metadata": {
    "collapsed": false
   },
   "outputs": [
    {
     "data": {
      "text/plain": [
       "<pymongo.results.InsertManyResult at 0x7f25256ce2d0>"
      ]
     },
     "execution_count": 15,
     "metadata": {},
     "output_type": "execute_result"
    }
   ],
   "source": [
    "c['corpora']['test'].insert_many(documents)"
   ]
  },
  {
   "cell_type": "code",
   "execution_count": 11,
   "metadata": {
    "collapsed": true
   },
   "outputs": [],
   "source": [
    "from corenlp_pywrap import pywrap\n",
    "full_annotator_list = [\"ssplit\"]\n",
    "cn = pywrap.CoreNLP(url='http://172.17.0.2:9000', annotator_list = full_annotator_list)"
   ]
  },
  {
   "cell_type": "code",
   "execution_count": 12,
   "metadata": {
    "collapsed": false
   },
   "outputs": [
    {
     "data": {
      "text/plain": [
       "['\\n ',\n",
       " '\\nJOHN KELLY, HOMELAND SECURITY SECRETARY:',\n",
       " ' In retrospect, I should have -- this is all on me, by the way -- I should have delayed it just a bit so that I could talk to members of Congress, particularly the leadership of committees like this, to prepare them for what was coming. \\n \\nThe desire was to get it out. The thinking was to get it out quick so that potentially people that might be coming here to harm us would not take advantage. \\n \\n']"
      ]
     },
     "execution_count": 12,
     "metadata": {},
     "output_type": "execute_result"
    }
   ],
   "source": [
    "re.split(r'([\\n\\\\n]*[ A-Z,-{(}{)}]+[:])', video_clips[2])"
   ]
  },
  {
   "cell_type": "code",
   "execution_count": 13,
   "metadata": {
    "collapsed": true
   },
   "outputs": [],
   "source": [
    "def clean_speaker(speaker):\n",
    "    out = re.sub(r'[^a-zA-Z,. ]+', '', speaker)\n",
    "    return out.strip()\n",
    "def clean_text(text):\n",
    "    out = re.sub(r'[\\\\]+t|[\\\\]+n', '', text)\n",
    "    out = re.sub(r\"\\n|\\t|[\\\\]+|<[/]*p>|\\([A-Z ]*\\)|\\\\\\\\t\", '', out)\n",
    "    out = re.sub(r'\\'', \"'\", out)\n",
    "    return str(out)"
   ]
  },
  {
   "cell_type": "code",
   "execution_count": 346,
   "metadata": {
    "collapsed": false
   },
   "outputs": [
    {
     "data": {
      "text/plain": [
       "['',\n",
       " '\\nUNINDITIFIED MALE:',\n",
       " '  Who do you want to eat more kale in Washington?',\n",
       " ' RUTH BADER GINSBURG, JUSTICE, SUPREME COURT:',\n",
       " '']"
      ]
     },
     "execution_count": 346,
     "metadata": {},
     "output_type": "execute_result"
    }
   ],
   "source": [
    "re.split(r'([\\n\\\\n]*[ A-Z,-,{(}{)}]+[:])', \"\\nUNINDITIFIED MALE:  Who do you want to eat more kale in Washington? RUTH BADER GINSBURG, JUSTICE, SUPREME COURT:\")"
   ]
  },
  {
   "cell_type": "code",
   "execution_count": 262,
   "metadata": {
    "collapsed": false
   },
   "outputs": [
    {
     "data": {
      "text/plain": [
       "[None,\n",
       " <_sre.SRE_Match object; span=(0, 23), match=':JOHN KING, CNN ANCHOR:'>,\n",
       " None]"
      ]
     },
     "execution_count": 262,
     "metadata": {},
     "output_type": "execute_result"
    }
   ],
   "source": [
    "[re.match(r'([\\n\\\\n]*[ A-Z,-{(}{)}]+[:])', i) for i in x]"
   ]
  },
  {
   "cell_type": "code",
   "execution_count": 211,
   "metadata": {
    "collapsed": false
   },
   "outputs": [
    {
     "ename": "KeyError",
     "evalue": "'text'",
     "output_type": "error",
     "traceback": [
      "\u001b[0;31m---------------------------------------------------------------------------\u001b[0m",
      "\u001b[0;31mKeyError\u001b[0m                                  Traceback (most recent call last)",
      "\u001b[0;32m<ipython-input-211-247d4213eec7>\u001b[0m in \u001b[0;36m<module>\u001b[0;34m()\u001b[0m\n\u001b[0;32m----> 1\u001b[0;31m \u001b[0mdoc\u001b[0m\u001b[0;34m[\u001b[0m\u001b[0;34m'text'\u001b[0m\u001b[0;34m]\u001b[0m\u001b[0;34m\u001b[0m\u001b[0m\n\u001b[0m",
      "\u001b[0;31mKeyError\u001b[0m: 'text'"
     ]
    }
   ],
   "source": [
    "doc['text']"
   ]
  },
  {
   "cell_type": "code",
   "execution_count": 226,
   "metadata": {
    "collapsed": true
   },
   "outputs": [],
   "source": [
    "string = \"s medical deferment from the military.  During a radio interview, the retired general was asked a lighthearted question\""
   ]
  },
  {
   "cell_type": "code",
   "execution_count": 231,
   "metadata": {
    "collapsed": false
   },
   "outputs": [],
   "source": [
    "re.match(r'([\\n\\\\n]*[ A-Z,-]+:)', '\\n Well:')"
   ]
  },
  {
   "cell_type": "code",
   "execution_count": 29,
   "metadata": {
    "collapsed": false
   },
   "outputs": [],
   "source": [
    "sample = c['corpora']['cnn_processed'].aggregate([\n",
    "    {'$sample': {'size':5000}}\n",
    "])"
   ]
  },
  {
   "cell_type": "code",
   "execution_count": 30,
   "metadata": {
    "collapsed": false
   },
   "outputs": [
    {
     "data": {
      "text/plain": [
       "26.4718"
      ]
     },
     "execution_count": 30,
     "metadata": {},
     "output_type": "execute_result"
    }
   ],
   "source": [
    "total = 0\n",
    "for x in sample:\n",
    "    total += len(x['convo'])\n",
    "total / 5000."
   ]
  },
  {
   "cell_type": "code",
   "execution_count": null,
   "metadata": {
    "collapsed": true
   },
   "outputs": [],
   "source": []
  }
 ],
 "metadata": {
  "kernelspec": {
   "display_name": "Python 3",
   "language": "python",
   "name": "python3"
  },
  "language_info": {
   "codemirror_mode": {
    "name": "ipython",
    "version": 3
   },
   "file_extension": ".py",
   "mimetype": "text/x-python",
   "name": "python",
   "nbconvert_exporter": "python",
   "pygments_lexer": "ipython3",
   "version": "3.4.3"
  }
 },
 "nbformat": 4,
 "nbformat_minor": 2
}
